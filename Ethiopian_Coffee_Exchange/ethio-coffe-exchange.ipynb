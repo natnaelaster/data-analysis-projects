{
 "cells": [
  {
   "cell_type": "markdown",
   "id": "e3ab02c0",
   "metadata": {},
   "source": [
    "#### 1 Importing the required Lybraries"
   ]
  },
  {
   "cell_type": "code",
   "execution_count": 1,
   "id": "fc2b5f7c",
   "metadata": {},
   "outputs": [],
   "source": [
    "import pandas as pd\n",
    "import numpy as np  \n",
    "import matplotlib.pyplot as plt\n",
    "import seaborn as sns\n",
    "import calendar"
   ]
  },
  {
   "cell_type": "markdown",
   "id": "63576997",
   "metadata": {},
   "source": [
    "##### -------------------------------------------------------------------------------\n",
    "#### 2 Data Importing process\n",
    "######   Merging all the excel files as on csv using the Symbol column to join the data after   importing each excel file to my working folder\n",
    "##### -------------------------------------------------------------------------------"
   ]
  },
  {
   "cell_type": "code",
   "execution_count": null,
   "id": "0022bb84",
   "metadata": {},
   "outputs": [],
   "source": [
    "# Listing the files to be merged\n",
    "file_paths = [\n",
    "    'Coffee-2012.xlsx',\n",
    "    'Coffee-2013.xlsx',\n",
    "    'Coffee-2014.xlsx',\n",
    "    'Coffee-2015.xlsx',\n",
    "    'Coffee-2016.xlsx',\n",
    "    'Coffee-2017.xlsx',\n",
    "    'Coffee-2018.xlsx',\n",
    "    'Coffee-2019.xlsx']\n",
    "\n",
    "# Reading and merging the files\n",
    "dfs = [pd.read_excel(file) for file in file_paths]\n",
    "\n",
    "merged_df = pd.concat(dfs, ignore_index=True)\n",
    "\n",
    "# Saving the merged DataFrame to a CSV file\n",
    "merged_df.to_csv('ethiopian_coffee_exchange_data.csv', index=False)\n",
    "\n",
    "print(\"Data merged and saved to 'ethiopian_coffee_exchange_data.csv'.\")"
   ]
  },
  {
   "cell_type": "code",
   "execution_count": 2,
   "id": "f7335e5c",
   "metadata": {},
   "outputs": [
    {
     "data": {
      "text/html": [
       "<div>\n",
       "<style scoped>\n",
       "    .dataframe tbody tr th:only-of-type {\n",
       "        vertical-align: middle;\n",
       "    }\n",
       "\n",
       "    .dataframe tbody tr th {\n",
       "        vertical-align: top;\n",
       "    }\n",
       "\n",
       "    .dataframe thead th {\n",
       "        text-align: right;\n",
       "    }\n",
       "</style>\n",
       "<table border=\"1\" class=\"dataframe\">\n",
       "  <thead>\n",
       "    <tr style=\"text-align: right;\">\n",
       "      <th></th>\n",
       "      <th>Trade Date</th>\n",
       "      <th>Symbol</th>\n",
       "      <th>Warehouse</th>\n",
       "      <th>Production Year</th>\n",
       "      <th>Opening Price</th>\n",
       "      <th>Closing Price</th>\n",
       "      <th>High</th>\n",
       "      <th>Low</th>\n",
       "      <th>Change</th>\n",
       "      <th>Persetntage Change</th>\n",
       "      <th>Volume (Ton)</th>\n",
       "    </tr>\n",
       "  </thead>\n",
       "  <tbody>\n",
       "    <tr>\n",
       "      <th>0</th>\n",
       "      <td>2012-01-02</td>\n",
       "      <td>WYKQ2</td>\n",
       "      <td>BG</td>\n",
       "      <td>2004</td>\n",
       "      <td>1,175.00</td>\n",
       "      <td>0.00</td>\n",
       "      <td>1,175.00</td>\n",
       "      <td>1,175.00</td>\n",
       "      <td>0</td>\n",
       "      <td>0.0</td>\n",
       "      <td>28.29</td>\n",
       "    </tr>\n",
       "    <tr>\n",
       "      <th>1</th>\n",
       "      <td>2012-01-03</td>\n",
       "      <td>WYKQ2</td>\n",
       "      <td>BG</td>\n",
       "      <td>2004</td>\n",
       "      <td>1,175.00</td>\n",
       "      <td>0.00</td>\n",
       "      <td>1,175.00</td>\n",
       "      <td>1,175.00</td>\n",
       "      <td>0</td>\n",
       "      <td>0.0</td>\n",
       "      <td>10.80</td>\n",
       "    </tr>\n",
       "    <tr>\n",
       "      <th>2</th>\n",
       "      <td>2012-01-04</td>\n",
       "      <td>WYKQ2</td>\n",
       "      <td>BG</td>\n",
       "      <td>2004</td>\n",
       "      <td>1,180.00</td>\n",
       "      <td>0.00</td>\n",
       "      <td>1,180.00</td>\n",
       "      <td>1,180.00</td>\n",
       "      <td>0</td>\n",
       "      <td>0.0</td>\n",
       "      <td>6.61</td>\n",
       "    </tr>\n",
       "    <tr>\n",
       "      <th>3</th>\n",
       "      <td>2012-01-06</td>\n",
       "      <td>WYKQ2</td>\n",
       "      <td>BG</td>\n",
       "      <td>2004</td>\n",
       "      <td>1,175.00</td>\n",
       "      <td>0.00</td>\n",
       "      <td>1,175.00</td>\n",
       "      <td>1,175.00</td>\n",
       "      <td>0</td>\n",
       "      <td>0.0</td>\n",
       "      <td>8.99</td>\n",
       "    </tr>\n",
       "    <tr>\n",
       "      <th>4</th>\n",
       "      <td>2012-01-12</td>\n",
       "      <td>WYKQ2</td>\n",
       "      <td>BG</td>\n",
       "      <td>2004</td>\n",
       "      <td>1,293.00</td>\n",
       "      <td>0.00</td>\n",
       "      <td>1,293.00</td>\n",
       "      <td>1,280.00</td>\n",
       "      <td>0</td>\n",
       "      <td>0.0</td>\n",
       "      <td>18.00</td>\n",
       "    </tr>\n",
       "  </tbody>\n",
       "</table>\n",
       "</div>"
      ],
      "text/plain": [
       "   Trade Date Symbol Warehouse  Production Year Opening Price Closing Price  \\\n",
       "0  2012-01-02  WYKQ2        BG             2004      1,175.00          0.00   \n",
       "1  2012-01-03  WYKQ2        BG             2004      1,175.00          0.00   \n",
       "2  2012-01-04  WYKQ2        BG             2004      1,180.00          0.00   \n",
       "3  2012-01-06  WYKQ2        BG             2004      1,175.00          0.00   \n",
       "4  2012-01-12  WYKQ2        BG             2004      1,293.00          0.00   \n",
       "\n",
       "       High       Low  Change Persetntage Change  Volume (Ton)  \n",
       "0  1,175.00  1,175.00       0               0.0          28.29  \n",
       "1  1,175.00  1,175.00       0               0.0          10.80  \n",
       "2  1,180.00  1,180.00       0               0.0           6.61  \n",
       "3  1,175.00  1,175.00       0               0.0           8.99  \n",
       "4  1,293.00  1,280.00       0               0.0          18.00  "
      ]
     },
     "execution_count": 2,
     "metadata": {},
     "output_type": "execute_result"
    }
   ],
   "source": [
    "df = pd.read_csv('ethiopian_coffee_exchange_data.csv')\n",
    "df.head()"
   ]
  },
  {
   "cell_type": "code",
   "execution_count": 3,
   "id": "46c828db",
   "metadata": {},
   "outputs": [
    {
     "data": {
      "text/html": [
       "<div>\n",
       "<style scoped>\n",
       "    .dataframe tbody tr th:only-of-type {\n",
       "        vertical-align: middle;\n",
       "    }\n",
       "\n",
       "    .dataframe tbody tr th {\n",
       "        vertical-align: top;\n",
       "    }\n",
       "\n",
       "    .dataframe thead th {\n",
       "        text-align: right;\n",
       "    }\n",
       "</style>\n",
       "<table border=\"1\" class=\"dataframe\">\n",
       "  <thead>\n",
       "    <tr style=\"text-align: right;\">\n",
       "      <th></th>\n",
       "      <th>Production Year</th>\n",
       "      <th>Change</th>\n",
       "      <th>Volume (Ton)</th>\n",
       "    </tr>\n",
       "  </thead>\n",
       "  <tbody>\n",
       "    <tr>\n",
       "      <th>count</th>\n",
       "      <td>91423.000000</td>\n",
       "      <td>91423.000000</td>\n",
       "      <td>91423.000000</td>\n",
       "    </tr>\n",
       "    <tr>\n",
       "      <th>mean</th>\n",
       "      <td>2007.398106</td>\n",
       "      <td>24.979907</td>\n",
       "      <td>22.745432</td>\n",
       "    </tr>\n",
       "    <tr>\n",
       "      <th>std</th>\n",
       "      <td>2.366144</td>\n",
       "      <td>58.014626</td>\n",
       "      <td>29.990070</td>\n",
       "    </tr>\n",
       "    <tr>\n",
       "      <th>min</th>\n",
       "      <td>2002.000000</td>\n",
       "      <td>0.000000</td>\n",
       "      <td>1.800000</td>\n",
       "    </tr>\n",
       "    <tr>\n",
       "      <th>25%</th>\n",
       "      <td>2005.000000</td>\n",
       "      <td>0.000000</td>\n",
       "      <td>6.830000</td>\n",
       "    </tr>\n",
       "    <tr>\n",
       "      <th>50%</th>\n",
       "      <td>2007.000000</td>\n",
       "      <td>10.000000</td>\n",
       "      <td>12.750000</td>\n",
       "    </tr>\n",
       "    <tr>\n",
       "      <th>75%</th>\n",
       "      <td>2009.000000</td>\n",
       "      <td>29.000000</td>\n",
       "      <td>25.500000</td>\n",
       "    </tr>\n",
       "    <tr>\n",
       "      <th>max</th>\n",
       "      <td>2011.000000</td>\n",
       "      <td>2230.000000</td>\n",
       "      <td>596.700000</td>\n",
       "    </tr>\n",
       "  </tbody>\n",
       "</table>\n",
       "</div>"
      ],
      "text/plain": [
       "       Production Year        Change  Volume (Ton)\n",
       "count     91423.000000  91423.000000  91423.000000\n",
       "mean       2007.398106     24.979907     22.745432\n",
       "std           2.366144     58.014626     29.990070\n",
       "min        2002.000000      0.000000      1.800000\n",
       "25%        2005.000000      0.000000      6.830000\n",
       "50%        2007.000000     10.000000     12.750000\n",
       "75%        2009.000000     29.000000     25.500000\n",
       "max        2011.000000   2230.000000    596.700000"
      ]
     },
     "execution_count": 3,
     "metadata": {},
     "output_type": "execute_result"
    }
   ],
   "source": [
    "df.describe()"
   ]
  },
  {
   "cell_type": "code",
   "execution_count": 4,
   "id": "2a4a2be9",
   "metadata": {},
   "outputs": [
    {
     "name": "stdout",
     "output_type": "stream",
     "text": [
      "<class 'pandas.core.frame.DataFrame'>\n",
      "RangeIndex: 91423 entries, 0 to 91422\n",
      "Data columns (total 11 columns):\n",
      " #   Column              Non-Null Count  Dtype  \n",
      "---  ------              --------------  -----  \n",
      " 0   Trade Date          91423 non-null  object \n",
      " 1   Symbol              91423 non-null  object \n",
      " 2   Warehouse           91423 non-null  object \n",
      " 3   Production Year     91423 non-null  int64  \n",
      " 4   Opening Price       91423 non-null  object \n",
      " 5   Closing Price       91423 non-null  object \n",
      " 6   High                91423 non-null  object \n",
      " 7   Low                 91423 non-null  object \n",
      " 8   Change              91423 non-null  int64  \n",
      " 9   Persetntage Change  91423 non-null  object \n",
      " 10  Volume (Ton)        91423 non-null  float64\n",
      "dtypes: float64(1), int64(2), object(8)\n",
      "memory usage: 7.7+ MB\n"
     ]
    }
   ],
   "source": [
    "df.info()"
   ]
  },
  {
   "cell_type": "markdown",
   "id": "01f0598a",
   "metadata": {},
   "source": [
    "#### ---------------------------------------------------------------------------------------\n",
    "#### *Explanation\n",
    "###### After importing the excel files and concating to one csv. The excel files those are separated by year from 2012 to 2019 all stored in one table with total number of records 91,423. Then call the file as (ethiopian_coffee_exchange_data.csv)\n",
    "###### And also there are many columns having error data type, which must be corrected in the data cleaning stage \n",
    "#### ----------------------------------------------------------------------------------------\n"
   ]
  },
  {
   "cell_type": "markdown",
   "id": "edfce7ca",
   "metadata": {},
   "source": [
    "#### 3 Data Cleaning Process"
   ]
  },
  {
   "cell_type": "code",
   "execution_count": 5,
   "id": "b5802bd8",
   "metadata": {},
   "outputs": [],
   "source": [
    "et_coffee_x = df.copy()"
   ]
  },
  {
   "cell_type": "code",
   "execution_count": 6,
   "id": "32e865b9",
   "metadata": {},
   "outputs": [
    {
     "name": "stdout",
     "output_type": "stream",
     "text": [
      "<class 'pandas.core.frame.DataFrame'>\n",
      "RangeIndex: 91423 entries, 0 to 91422\n",
      "Data columns (total 11 columns):\n",
      " #   Column              Non-Null Count  Dtype  \n",
      "---  ------              --------------  -----  \n",
      " 0   Trade Date          91423 non-null  object \n",
      " 1   Symbol              91423 non-null  object \n",
      " 2   Warehouse           91423 non-null  object \n",
      " 3   Production Year     91423 non-null  int64  \n",
      " 4   Opening Price       91423 non-null  object \n",
      " 5   Closing Price       91423 non-null  object \n",
      " 6   High                91423 non-null  object \n",
      " 7   Low                 91423 non-null  object \n",
      " 8   Change              91423 non-null  int64  \n",
      " 9   Persetntage Change  91423 non-null  object \n",
      " 10  Volume (Ton)        91423 non-null  float64\n",
      "dtypes: float64(1), int64(2), object(8)\n",
      "memory usage: 7.7+ MB\n"
     ]
    }
   ],
   "source": [
    "et_coffee_x.info()"
   ]
  },
  {
   "cell_type": "code",
   "execution_count": 7,
   "id": "7efd5117",
   "metadata": {},
   "outputs": [],
   "source": [
    "# Converting data types\n",
    "\n",
    "# Converting 'Trade Date' and 'Production Year' to datetime\n",
    "et_coffee_x['Trade Date'] = pd.to_datetime(et_coffee_x['Trade Date'], format='%Y-%m-%d')\n",
    "et_coffee_x['Production Year'] = pd.to_datetime(et_coffee_x['Production Year'], format='%Y')\n",
    "\n",
    "# Converting numeric columns to float and removing percentage sign from 'Percentage Change' \n",
    "et_coffee_x['Opening Price'] = pd.to_numeric(et_coffee_x['Opening Price'], errors='coerce')\n",
    "et_coffee_x['Closing Price'] = pd.to_numeric(et_coffee_x['Closing Price'], errors='coerce')\n",
    "et_coffee_x['High'] = pd.to_numeric(et_coffee_x['High'], errors='coerce')\n",
    "et_coffee_x['Low'] = pd.to_numeric(et_coffee_x['Low'], errors='coerce') \n",
    "\n",
    "# Creating a new column for percentage change and change the data type of 'Persetntage Change' from object to float\n",
    "et_coffee_x['percent_change'] = et_coffee_x['Persetntage Change'].str.replace('%', '').astype(float) / 100\n",
    "\n",
    "# Dropping the original 'Persetntage Change' column\n",
    "et_coffee_x.drop(columns=['Persetntage Change'], inplace=True)"
   ]
  },
  {
   "cell_type": "code",
   "execution_count": 8,
   "id": "20ff2e5d",
   "metadata": {},
   "outputs": [
    {
     "name": "stdout",
     "output_type": "stream",
     "text": [
      "<class 'pandas.core.frame.DataFrame'>\n",
      "RangeIndex: 91423 entries, 0 to 91422\n",
      "Data columns (total 11 columns):\n",
      " #   Column           Non-Null Count  Dtype         \n",
      "---  ------           --------------  -----         \n",
      " 0   Trade Date       91423 non-null  datetime64[ns]\n",
      " 1   Symbol           91423 non-null  object        \n",
      " 2   Warehouse        91423 non-null  object        \n",
      " 3   Production Year  91423 non-null  datetime64[ns]\n",
      " 4   Opening Price    41253 non-null  float64       \n",
      " 5   Closing Price    46055 non-null  float64       \n",
      " 6   High             40943 non-null  float64       \n",
      " 7   Low              41553 non-null  float64       \n",
      " 8   Change           91423 non-null  int64         \n",
      " 9   Volume (Ton)     91423 non-null  float64       \n",
      " 10  percent_change   91423 non-null  float64       \n",
      "dtypes: datetime64[ns](2), float64(6), int64(1), object(2)\n",
      "memory usage: 7.7+ MB\n"
     ]
    }
   ],
   "source": [
    "# Checking for null values\n",
    "et_coffee_x.info()"
   ]
  },
  {
   "cell_type": "code",
   "execution_count": 9,
   "id": "ba569c81",
   "metadata": {},
   "outputs": [
    {
     "data": {
      "text/plain": [
       "Trade Date             0\n",
       "Symbol                 0\n",
       "Warehouse              0\n",
       "Production Year        0\n",
       "Opening Price      50170\n",
       "Closing Price      45368\n",
       "High               50480\n",
       "Low                49870\n",
       "Change                 0\n",
       "Volume (Ton)           0\n",
       "percent_change         0\n",
       "dtype: int64"
      ]
     },
     "execution_count": 9,
     "metadata": {},
     "output_type": "execute_result"
    }
   ],
   "source": [
    "# Counting the amount of null values in each columns\n",
    "null_values = et_coffee_x.isnull().sum()\n",
    "null_values"
   ]
  },
  {
   "cell_type": "code",
   "execution_count": 10,
   "id": "b148014e",
   "metadata": {},
   "outputs": [],
   "source": [
    "# Dropping null values in specific columns\n",
    "et_coffee_x.dropna(subset=['Opening Price', 'Closing Price', 'High', 'Low'], inplace=True)"
   ]
  },
  {
   "cell_type": "code",
   "execution_count": 11,
   "id": "54f96d46",
   "metadata": {},
   "outputs": [
    {
     "data": {
      "text/plain": [
       "Trade Date         0\n",
       "Symbol             0\n",
       "Warehouse          0\n",
       "Production Year    0\n",
       "Opening Price      0\n",
       "Closing Price      0\n",
       "High               0\n",
       "Low                0\n",
       "Change             0\n",
       "Volume (Ton)       0\n",
       "percent_change     0\n",
       "dtype: int64"
      ]
     },
     "execution_count": 11,
     "metadata": {},
     "output_type": "execute_result"
    }
   ],
   "source": [
    "et_coffee_x.isna().sum()"
   ]
  },
  {
   "cell_type": "code",
   "execution_count": 12,
   "id": "ca8aa5bb",
   "metadata": {},
   "outputs": [
    {
     "data": {
      "text/plain": [
       "np.int64(0)"
      ]
     },
     "execution_count": 12,
     "metadata": {},
     "output_type": "execute_result"
    }
   ],
   "source": [
    "et_coffee_x.duplicated().sum()"
   ]
  },
  {
   "cell_type": "code",
   "execution_count": 13,
   "id": "a3363f2e",
   "metadata": {},
   "outputs": [
    {
     "data": {
      "text/html": [
       "<div>\n",
       "<style scoped>\n",
       "    .dataframe tbody tr th:only-of-type {\n",
       "        vertical-align: middle;\n",
       "    }\n",
       "\n",
       "    .dataframe tbody tr th {\n",
       "        vertical-align: top;\n",
       "    }\n",
       "\n",
       "    .dataframe thead th {\n",
       "        text-align: right;\n",
       "    }\n",
       "</style>\n",
       "<table border=\"1\" class=\"dataframe\">\n",
       "  <thead>\n",
       "    <tr style=\"text-align: right;\">\n",
       "      <th></th>\n",
       "      <th>Trade Date</th>\n",
       "      <th>Production Year</th>\n",
       "      <th>Opening Price</th>\n",
       "      <th>Closing Price</th>\n",
       "      <th>High</th>\n",
       "      <th>Low</th>\n",
       "      <th>Change</th>\n",
       "      <th>Volume (Ton)</th>\n",
       "      <th>percent_change</th>\n",
       "    </tr>\n",
       "  </thead>\n",
       "  <tbody>\n",
       "    <tr>\n",
       "      <th>count</th>\n",
       "      <td>40943</td>\n",
       "      <td>40943</td>\n",
       "      <td>40943.000000</td>\n",
       "      <td>40943.000000</td>\n",
       "      <td>40943.000000</td>\n",
       "      <td>40943.000000</td>\n",
       "      <td>40943.000000</td>\n",
       "      <td>40943.000000</td>\n",
       "      <td>40943.000000</td>\n",
       "    </tr>\n",
       "    <tr>\n",
       "      <th>mean</th>\n",
       "      <td>2015-05-13 17:17:47.171433472</td>\n",
       "      <td>2006-07-10 10:30:22.025742976</td>\n",
       "      <td>770.027038</td>\n",
       "      <td>657.627262</td>\n",
       "      <td>771.765503</td>\n",
       "      <td>768.359597</td>\n",
       "      <td>20.429890</td>\n",
       "      <td>23.570076</td>\n",
       "      <td>0.025969</td>\n",
       "    </tr>\n",
       "    <tr>\n",
       "      <th>min</th>\n",
       "      <td>2012-01-02 00:00:00</td>\n",
       "      <td>2002-01-01 00:00:00</td>\n",
       "      <td>99.000000</td>\n",
       "      <td>0.000000</td>\n",
       "      <td>99.000000</td>\n",
       "      <td>99.000000</td>\n",
       "      <td>0.000000</td>\n",
       "      <td>1.800000</td>\n",
       "      <td>0.000000</td>\n",
       "    </tr>\n",
       "    <tr>\n",
       "      <th>25%</th>\n",
       "      <td>2013-05-30 00:00:00</td>\n",
       "      <td>2005-01-01 00:00:00</td>\n",
       "      <td>710.000000</td>\n",
       "      <td>540.000000</td>\n",
       "      <td>710.000000</td>\n",
       "      <td>710.000000</td>\n",
       "      <td>0.000000</td>\n",
       "      <td>6.300000</td>\n",
       "      <td>0.000000</td>\n",
       "    </tr>\n",
       "    <tr>\n",
       "      <th>50%</th>\n",
       "      <td>2015-05-27 00:00:00</td>\n",
       "      <td>2006-01-01 00:00:00</td>\n",
       "      <td>820.000000</td>\n",
       "      <td>795.000000</td>\n",
       "      <td>820.000000</td>\n",
       "      <td>817.000000</td>\n",
       "      <td>8.000000</td>\n",
       "      <td>12.750000</td>\n",
       "      <td>0.010000</td>\n",
       "    </tr>\n",
       "    <tr>\n",
       "      <th>75%</th>\n",
       "      <td>2017-01-05 00:00:00</td>\n",
       "      <td>2008-01-01 00:00:00</td>\n",
       "      <td>900.000000</td>\n",
       "      <td>875.000000</td>\n",
       "      <td>900.000000</td>\n",
       "      <td>899.000000</td>\n",
       "      <td>20.000000</td>\n",
       "      <td>28.050000</td>\n",
       "      <td>0.030000</td>\n",
       "    </tr>\n",
       "    <tr>\n",
       "      <th>max</th>\n",
       "      <td>2019-09-13 00:00:00</td>\n",
       "      <td>2011-01-01 00:00:00</td>\n",
       "      <td>999.000000</td>\n",
       "      <td>999.000000</td>\n",
       "      <td>999.000000</td>\n",
       "      <td>999.000000</td>\n",
       "      <td>1060.000000</td>\n",
       "      <td>465.920000</td>\n",
       "      <td>2.850000</td>\n",
       "    </tr>\n",
       "    <tr>\n",
       "      <th>std</th>\n",
       "      <td>NaN</td>\n",
       "      <td>NaN</td>\n",
       "      <td>180.816240</td>\n",
       "      <td>314.283336</td>\n",
       "      <td>181.114093</td>\n",
       "      <td>180.481256</td>\n",
       "      <td>52.165701</td>\n",
       "      <td>30.988650</td>\n",
       "      <td>0.071412</td>\n",
       "    </tr>\n",
       "  </tbody>\n",
       "</table>\n",
       "</div>"
      ],
      "text/plain": [
       "                          Trade Date                Production Year  \\\n",
       "count                          40943                          40943   \n",
       "mean   2015-05-13 17:17:47.171433472  2006-07-10 10:30:22.025742976   \n",
       "min              2012-01-02 00:00:00            2002-01-01 00:00:00   \n",
       "25%              2013-05-30 00:00:00            2005-01-01 00:00:00   \n",
       "50%              2015-05-27 00:00:00            2006-01-01 00:00:00   \n",
       "75%              2017-01-05 00:00:00            2008-01-01 00:00:00   \n",
       "max              2019-09-13 00:00:00            2011-01-01 00:00:00   \n",
       "std                              NaN                            NaN   \n",
       "\n",
       "       Opening Price  Closing Price          High           Low        Change  \\\n",
       "count   40943.000000   40943.000000  40943.000000  40943.000000  40943.000000   \n",
       "mean      770.027038     657.627262    771.765503    768.359597     20.429890   \n",
       "min        99.000000       0.000000     99.000000     99.000000      0.000000   \n",
       "25%       710.000000     540.000000    710.000000    710.000000      0.000000   \n",
       "50%       820.000000     795.000000    820.000000    817.000000      8.000000   \n",
       "75%       900.000000     875.000000    900.000000    899.000000     20.000000   \n",
       "max       999.000000     999.000000    999.000000    999.000000   1060.000000   \n",
       "std       180.816240     314.283336    181.114093    180.481256     52.165701   \n",
       "\n",
       "       Volume (Ton)  percent_change  \n",
       "count  40943.000000    40943.000000  \n",
       "mean      23.570076        0.025969  \n",
       "min        1.800000        0.000000  \n",
       "25%        6.300000        0.000000  \n",
       "50%       12.750000        0.010000  \n",
       "75%       28.050000        0.030000  \n",
       "max      465.920000        2.850000  \n",
       "std       30.988650        0.071412  "
      ]
     },
     "execution_count": 13,
     "metadata": {},
     "output_type": "execute_result"
    }
   ],
   "source": [
    "et_coffee_x.describe()"
   ]
  },
  {
   "cell_type": "code",
   "execution_count": 14,
   "id": "5583d30a",
   "metadata": {},
   "outputs": [
    {
     "name": "stdout",
     "output_type": "stream",
     "text": [
      "<class 'pandas.core.frame.DataFrame'>\n",
      "Index: 40943 entries, 22 to 91422\n",
      "Data columns (total 11 columns):\n",
      " #   Column           Non-Null Count  Dtype         \n",
      "---  ------           --------------  -----         \n",
      " 0   Trade Date       40943 non-null  datetime64[ns]\n",
      " 1   Symbol           40943 non-null  object        \n",
      " 2   Warehouse        40943 non-null  object        \n",
      " 3   Production Year  40943 non-null  datetime64[ns]\n",
      " 4   Opening Price    40943 non-null  float64       \n",
      " 5   Closing Price    40943 non-null  float64       \n",
      " 6   High             40943 non-null  float64       \n",
      " 7   Low              40943 non-null  float64       \n",
      " 8   Change           40943 non-null  int64         \n",
      " 9   Volume (Ton)     40943 non-null  float64       \n",
      " 10  percent_change   40943 non-null  float64       \n",
      "dtypes: datetime64[ns](2), float64(6), int64(1), object(2)\n",
      "memory usage: 3.7+ MB\n"
     ]
    }
   ],
   "source": [
    "et_coffee_x.info()"
   ]
  },
  {
   "cell_type": "markdown",
   "id": "0c9a944b",
   "metadata": {},
   "source": [
    "#### ----------------------------------------------------------------------------------\n",
    "##### * Explanation\n",
    "###### After the data cleaning process, The date and numeric columns converted to the exact data type for required analytical quastion.\n",
    "###### And after droping null values from some columns, now it is easy and clear to show that the stastical destribution of the numeric columns.\n",
    "###### And drop percente change column after creating another column and convert the data type to foat\n",
    "##### ----------------------------------------------------------------------------------------"
   ]
  },
  {
   "cell_type": "markdown",
   "id": "ac884c63",
   "metadata": {},
   "source": [
    "#### 4 Exploratory Data Analysis"
   ]
  },
  {
   "cell_type": "markdown",
   "id": "5dfdd5e9",
   "metadata": {},
   "source": [
    "#### 4.1. Price Trends Over Time\n",
    "###### How did the average opening/closing price of coffee change over time (monthly/quarterly/yearly)?\n",
    "##### *by Year"
   ]
  },
  {
   "cell_type": "code",
   "execution_count": 15,
   "id": "d09d54b5",
   "metadata": {},
   "outputs": [
    {
     "data": {
      "text/html": [
       "<div>\n",
       "<style scoped>\n",
       "    .dataframe tbody tr th:only-of-type {\n",
       "        vertical-align: middle;\n",
       "    }\n",
       "\n",
       "    .dataframe tbody tr th {\n",
       "        vertical-align: top;\n",
       "    }\n",
       "\n",
       "    .dataframe thead th {\n",
       "        text-align: right;\n",
       "    }\n",
       "</style>\n",
       "<table border=\"1\" class=\"dataframe\">\n",
       "  <thead>\n",
       "    <tr style=\"text-align: right;\">\n",
       "      <th></th>\n",
       "      <th>Trade Date</th>\n",
       "      <th>Opening Price</th>\n",
       "      <th>Closing Price</th>\n",
       "    </tr>\n",
       "  </thead>\n",
       "  <tbody>\n",
       "    <tr>\n",
       "      <th>0</th>\n",
       "      <td>2012</td>\n",
       "      <td>810.982503</td>\n",
       "      <td>7.583289</td>\n",
       "    </tr>\n",
       "    <tr>\n",
       "      <th>1</th>\n",
       "      <td>2013</td>\n",
       "      <td>751.324492</td>\n",
       "      <td>741.467911</td>\n",
       "    </tr>\n",
       "    <tr>\n",
       "      <th>2</th>\n",
       "      <td>2014</td>\n",
       "      <td>754.281203</td>\n",
       "      <td>754.277255</td>\n",
       "    </tr>\n",
       "    <tr>\n",
       "      <th>3</th>\n",
       "      <td>2015</td>\n",
       "      <td>759.949165</td>\n",
       "      <td>758.911923</td>\n",
       "    </tr>\n",
       "    <tr>\n",
       "      <th>4</th>\n",
       "      <td>2016</td>\n",
       "      <td>702.795426</td>\n",
       "      <td>701.752026</td>\n",
       "    </tr>\n",
       "    <tr>\n",
       "      <th>5</th>\n",
       "      <td>2017</td>\n",
       "      <td>784.647370</td>\n",
       "      <td>784.951987</td>\n",
       "    </tr>\n",
       "    <tr>\n",
       "      <th>6</th>\n",
       "      <td>2018</td>\n",
       "      <td>805.564906</td>\n",
       "      <td>805.682781</td>\n",
       "    </tr>\n",
       "    <tr>\n",
       "      <th>7</th>\n",
       "      <td>2019</td>\n",
       "      <td>869.555685</td>\n",
       "      <td>869.389019</td>\n",
       "    </tr>\n",
       "  </tbody>\n",
       "</table>\n",
       "</div>"
      ],
      "text/plain": [
       "   Trade Date  Opening Price  Closing Price\n",
       "0        2012     810.982503       7.583289\n",
       "1        2013     751.324492     741.467911\n",
       "2        2014     754.281203     754.277255\n",
       "3        2015     759.949165     758.911923\n",
       "4        2016     702.795426     701.752026\n",
       "5        2017     784.647370     784.951987\n",
       "6        2018     805.564906     805.682781\n",
       "7        2019     869.555685     869.389019"
      ]
     },
     "execution_count": 15,
     "metadata": {},
     "output_type": "execute_result"
    }
   ],
   "source": [
    "yearly_price_trade = et_coffee_x[['Opening Price', 'Closing Price']].groupby(et_coffee_x['Trade Date'].dt.year).mean().reset_index()\n",
    "yearly_price_trade.sort_values(by='Trade Date', inplace=True)\n",
    "yearly_price_trade"
   ]
  },
  {
   "cell_type": "code",
   "execution_count": 16,
   "id": "2b6399c6",
   "metadata": {},
   "outputs": [
    {
     "data": {
      "image/png": "[encoded data removed]",
      "text/plain": [
       "<Figure size 1200x600 with 1 Axes>"
      ]
     },
     "metadata": {},
     "output_type": "display_data"
    }
   ],
   "source": [
    "plt.figure(figsize=(12, 6))\n",
    "plt.plot(yearly_price_trade['Trade Date'], yearly_price_trade['Opening Price'], label='Opening Price', color='green')\n",
    "plt.plot(yearly_price_trade['Trade Date'], yearly_price_trade['Closing Price'], label='Closing Price', color='red')\n",
    "plt.title('Average Coffee Opening and Closing Prices by Year')\n",
    "plt.xlabel('Year')\n",
    "plt.ylabel('Price (ETB)')\n",
    "plt.ylim(0, 900)\n",
    "plt.legend()\n",
    "plt.grid(True)\n",
    "plt.show()"
   ]
  },
  {
   "cell_type": "markdown",
   "id": "b1a6f7bb",
   "metadata": {},
   "source": [
    "##### -------------------------------------------------------------------------------\n",
    "#### * Findings from Yearly Coffee Price Trends\n",
    "###### Ethiopian coffee prices showed a general upward trend from 2013 to 2019, with a notable low in 2016 and a peak in 2019. The 2012 data appears to be an outlier and should be checked for accuracy.\n",
    "###### -The average closing price for 2012 (7.58 ETB) is extremely low compared to the opening price (810.98 ETB)\n",
    "###### - From 2013 to 2019, both the average opening and closing prices of Ethiopian coffee generally increased, indicating a positive price trend over the years.\n",
    "###### - The lowest average prices were observed in 2016, with an opening price of 702.80 ETB and a closing price of 701.75 ETB.\n",
    "###### - The highest average prices occurred in 2019, with an opening price of 869.56 ETB and a closing price of 869.39 ETB.\n",
    "##### -------------------------------------------------------------------------------\n"
   ]
  },
  {
   "cell_type": "markdown",
   "id": "51543c07",
   "metadata": {},
   "source": [
    "##### * by Quarter"
   ]
  },
  {
   "cell_type": "code",
   "execution_count": 17,
   "id": "661654f5",
   "metadata": {},
   "outputs": [
    {
     "data": {
      "text/html": [
       "<div>\n",
       "<style scoped>\n",
       "    .dataframe tbody tr th:only-of-type {\n",
       "        vertical-align: middle;\n",
       "    }\n",
       "\n",
       "    .dataframe tbody tr th {\n",
       "        vertical-align: top;\n",
       "    }\n",
       "\n",
       "    .dataframe thead th {\n",
       "        text-align: right;\n",
       "    }\n",
       "</style>\n",
       "<table border=\"1\" class=\"dataframe\">\n",
       "  <thead>\n",
       "    <tr style=\"text-align: right;\">\n",
       "      <th></th>\n",
       "      <th>Trade Date</th>\n",
       "      <th>Closing Price</th>\n",
       "      <th>Opening Price</th>\n",
       "    </tr>\n",
       "  </thead>\n",
       "  <tbody>\n",
       "    <tr>\n",
       "      <th>0</th>\n",
       "      <td>2012Q1</td>\n",
       "      <td>0.000000</td>\n",
       "      <td>895.182171</td>\n",
       "    </tr>\n",
       "    <tr>\n",
       "      <th>1</th>\n",
       "      <td>2012Q2</td>\n",
       "      <td>0.000000</td>\n",
       "      <td>826.625285</td>\n",
       "    </tr>\n",
       "    <tr>\n",
       "      <th>2</th>\n",
       "      <td>2012Q3</td>\n",
       "      <td>0.000000</td>\n",
       "      <td>814.133978</td>\n",
       "    </tr>\n",
       "    <tr>\n",
       "      <th>3</th>\n",
       "      <td>2012Q4</td>\n",
       "      <td>22.580542</td>\n",
       "      <td>770.855396</td>\n",
       "    </tr>\n",
       "    <tr>\n",
       "      <th>4</th>\n",
       "      <td>2013Q1</td>\n",
       "      <td>725.314443</td>\n",
       "      <td>761.173947</td>\n",
       "    </tr>\n",
       "  </tbody>\n",
       "</table>\n",
       "</div>"
      ],
      "text/plain": [
       "  Trade Date  Closing Price  Opening Price\n",
       "0     2012Q1       0.000000     895.182171\n",
       "1     2012Q2       0.000000     826.625285\n",
       "2     2012Q3       0.000000     814.133978\n",
       "3     2012Q4      22.580542     770.855396\n",
       "4     2013Q1     725.314443     761.173947"
      ]
     },
     "execution_count": 17,
     "metadata": {},
     "output_type": "execute_result"
    }
   ],
   "source": [
    "quater_price_trade = et_coffee_x[['Closing Price', 'Opening Price']].groupby(et_coffee_x['Trade Date'].dt.to_period('Q')).mean()\n",
    "quater_price_trade.head().reset_index()"
   ]
  },
  {
   "cell_type": "code",
   "execution_count": 18,
   "id": "39c53a0b",
   "metadata": {},
   "outputs": [
    {
     "data": {
      "image/png": "[encoded data removed]",
      "text/plain": [
       "<Figure size 1200x600 with 1 Axes>"
      ]
     },
     "metadata": {},
     "output_type": "display_data"
    }
   ],
   "source": [
    "quater_price_trade.plot(kind='line', figsize=(12, 6), title='Average Coffee Prices Over Quarters', color=['red', 'green'])\n",
    "   \n",
    "plt.xlabel('Quarter')\n",
    "plt.ylabel('Price (ETB)')\n",
    "plt.grid()    \n",
    "plt.show()"
   ]
  },
  {
   "cell_type": "markdown",
   "id": "aa958476",
   "metadata": {},
   "source": [
    "##### -------------------------------------------------------------------------------\n",
    "#### * Findings from Quarterly Coffee Price Trends\n",
    "###### -2012 Data Anomaly:  For the first three quarters of 2012 (Q1–Q3), the average closing price is 0.00 ETB, which is unrealistic and suggests missing or erroneous data for those periods. Only in Q4 2012 does the closing price become nonzero (22.58 ETB), but it is still extremely low compared to the opening price.\n",
    "###### -Opening Price in 2012:The average opening prices in 2012 are high, starting at 895.18 ETB in Q1 and gradually decreasing to 770.86 ETB by Q4.\n",
    "###### -2013 Q1 Recovery:In 2013 Q1, the closing price jumps to 725.31 ETB, and the opening price is 761.17 ETB, indicating a return to more realistic and consistent pricing after the anomalies in 2012.\n",
    "###### -Quarterly Trend:The data suggests that after the anomalous 2012, both opening and closing prices stabilize and become more consistent starting from 2013 Q1.\n",
    "##### -------------------------------------------------------------------------------"
   ]
  },
  {
   "cell_type": "markdown",
   "id": "04c8158b",
   "metadata": {},
   "source": [
    "##### * by Month"
   ]
  },
  {
   "cell_type": "code",
   "execution_count": 19,
   "id": "bf2efcbd",
   "metadata": {},
   "outputs": [
    {
     "data": {
      "text/html": [
       "<div>\n",
       "<style scoped>\n",
       "    .dataframe tbody tr th:only-of-type {\n",
       "        vertical-align: middle;\n",
       "    }\n",
       "\n",
       "    .dataframe tbody tr th {\n",
       "        vertical-align: top;\n",
       "    }\n",
       "\n",
       "    .dataframe thead th {\n",
       "        text-align: right;\n",
       "    }\n",
       "</style>\n",
       "<table border=\"1\" class=\"dataframe\">\n",
       "  <thead>\n",
       "    <tr style=\"text-align: right;\">\n",
       "      <th></th>\n",
       "      <th>Trade Date</th>\n",
       "      <th>Closing Price</th>\n",
       "      <th>Opening Price</th>\n",
       "    </tr>\n",
       "  </thead>\n",
       "  <tbody>\n",
       "    <tr>\n",
       "      <th>0</th>\n",
       "      <td>1</td>\n",
       "      <td>735.207398</td>\n",
       "      <td>776.920740</td>\n",
       "    </tr>\n",
       "    <tr>\n",
       "      <th>1</th>\n",
       "      <td>2</td>\n",
       "      <td>781.510579</td>\n",
       "      <td>791.610523</td>\n",
       "    </tr>\n",
       "    <tr>\n",
       "      <th>2</th>\n",
       "      <td>3</td>\n",
       "      <td>726.354078</td>\n",
       "      <td>809.268267</td>\n",
       "    </tr>\n",
       "    <tr>\n",
       "      <th>3</th>\n",
       "      <td>4</td>\n",
       "      <td>691.095851</td>\n",
       "      <td>793.504803</td>\n",
       "    </tr>\n",
       "    <tr>\n",
       "      <th>4</th>\n",
       "      <td>5</td>\n",
       "      <td>656.001507</td>\n",
       "      <td>779.719166</td>\n",
       "    </tr>\n",
       "    <tr>\n",
       "      <th>5</th>\n",
       "      <td>6</td>\n",
       "      <td>645.775779</td>\n",
       "      <td>761.472764</td>\n",
       "    </tr>\n",
       "    <tr>\n",
       "      <th>6</th>\n",
       "      <td>7</td>\n",
       "      <td>646.916667</td>\n",
       "      <td>756.752717</td>\n",
       "    </tr>\n",
       "    <tr>\n",
       "      <th>7</th>\n",
       "      <td>8</td>\n",
       "      <td>625.697058</td>\n",
       "      <td>773.721758</td>\n",
       "    </tr>\n",
       "    <tr>\n",
       "      <th>8</th>\n",
       "      <td>9</td>\n",
       "      <td>584.334771</td>\n",
       "      <td>760.691976</td>\n",
       "    </tr>\n",
       "    <tr>\n",
       "      <th>9</th>\n",
       "      <td>10</td>\n",
       "      <td>561.262634</td>\n",
       "      <td>758.961332</td>\n",
       "    </tr>\n",
       "    <tr>\n",
       "      <th>10</th>\n",
       "      <td>11</td>\n",
       "      <td>531.960963</td>\n",
       "      <td>701.560379</td>\n",
       "    </tr>\n",
       "    <tr>\n",
       "      <th>11</th>\n",
       "      <td>12</td>\n",
       "      <td>584.195553</td>\n",
       "      <td>727.239372</td>\n",
       "    </tr>\n",
       "  </tbody>\n",
       "</table>\n",
       "</div>"
      ],
      "text/plain": [
       "    Trade Date  Closing Price  Opening Price\n",
       "0            1     735.207398     776.920740\n",
       "1            2     781.510579     791.610523\n",
       "2            3     726.354078     809.268267\n",
       "3            4     691.095851     793.504803\n",
       "4            5     656.001507     779.719166\n",
       "5            6     645.775779     761.472764\n",
       "6            7     646.916667     756.752717\n",
       "7            8     625.697058     773.721758\n",
       "8            9     584.334771     760.691976\n",
       "9           10     561.262634     758.961332\n",
       "10          11     531.960963     701.560379\n",
       "11          12     584.195553     727.239372"
      ]
     },
     "execution_count": 19,
     "metadata": {},
     "output_type": "execute_result"
    }
   ],
   "source": [
    "month_price_trade = et_coffee_x[['Closing Price', 'Opening Price']].groupby(et_coffee_x['Trade Date'].dt.month).mean()\n",
    "month_price_trade.reset_index()"
   ]
  },
  {
   "cell_type": "code",
   "execution_count": 20,
   "id": "ee501965",
   "metadata": {},
   "outputs": [
    {
     "data": {
      "image/png": "[encoded data removed]",
      "text/plain": [
       "<Figure size 1200x600 with 1 Axes>"
      ]
     },
     "metadata": {},
     "output_type": "display_data"
    }
   ],
   "source": [
    "month_price_trade.plot(kind='line', figsize=(12, 6), title='Average Coffee Prices Over Months', color=['red', 'green'])\n",
    "month_price_trade = month_price_trade.reindex(range(1, 13))\n",
    "plt.ylabel('Price (ETB)')           \n",
    "plt.xlabel('Month')\n",
    "plt.xticks(ticks=range(1,13), labels=[calendar.month_abbr[m] for m in range(1, 13)])\n",
    "plt.grid()  \n",
    "plt.show()"
   ]
  },
  {
   "cell_type": "markdown",
   "id": "59ac8405",
   "metadata": {},
   "source": [
    "##### -------------------------------------------------------------------------------\n",
    "#### * Findings from Monthly Coffee Price Trends\n",
    "###### The data suggests a seasonal pattern, with prices peaking in the early months of the year and declining towards the end, before a small recovery in December.\n",
    "###### - The highest average opening and closing prices are observed in February (Opening: 791.61 ETB, Closing: 781.51 ETB) and March (Opening: 809.27 ETB, Closing: 726.35 ETB).\n",
    "###### - Both opening and closing prices show a steady decline from March through November, reaching their lowest in November (Opening: 701.56 ETB, Closing: 531.96 ETB).\n",
    "###### - The lowest average closing price occurs in November (531.96 ETB), while the lowest opening price is also in November (701.56 ETB).\n",
    "###### - There is a slight increase in both opening (727.24 ETB) and closing (584.20 ETB) prices in December compared to November.\n",
    "###### - The data suggests a seasonal pattern, with prices peaking in the early months of the year and declining towards the end, before a small recovery in December.\n",
    "##### -------------------------------------------------------------------------------"
   ]
  },
  {
   "cell_type": "markdown",
   "id": "df128858",
   "metadata": {},
   "source": [
    "#### * Warwhouse and Production Insights\n",
    "##### * Which warehouse trade coffee at the highest average price"
   ]
  },
  {
   "cell_type": "code",
   "execution_count": 21,
   "id": "f202973b",
   "metadata": {},
   "outputs": [
    {
     "data": {
      "text/html": [
       "<div>\n",
       "<style scoped>\n",
       "    .dataframe tbody tr th:only-of-type {\n",
       "        vertical-align: middle;\n",
       "    }\n",
       "\n",
       "    .dataframe tbody tr th {\n",
       "        vertical-align: top;\n",
       "    }\n",
       "\n",
       "    .dataframe thead th {\n",
       "        text-align: right;\n",
       "    }\n",
       "</style>\n",
       "<table border=\"1\" class=\"dataframe\">\n",
       "  <thead>\n",
       "    <tr style=\"text-align: right;\">\n",
       "      <th></th>\n",
       "      <th>Warehouse</th>\n",
       "      <th>High</th>\n",
       "      <th>Low</th>\n",
       "    </tr>\n",
       "  </thead>\n",
       "  <tbody>\n",
       "    <tr>\n",
       "      <th>0</th>\n",
       "      <td>B1</td>\n",
       "      <td>766.282258</td>\n",
       "      <td>764.362903</td>\n",
       "    </tr>\n",
       "    <tr>\n",
       "      <th>1</th>\n",
       "      <td>B2</td>\n",
       "      <td>668.937500</td>\n",
       "      <td>666.854167</td>\n",
       "    </tr>\n",
       "    <tr>\n",
       "      <th>2</th>\n",
       "      <td>BD</td>\n",
       "      <td>785.854694</td>\n",
       "      <td>783.056536</td>\n",
       "    </tr>\n",
       "    <tr>\n",
       "      <th>3</th>\n",
       "      <td>BG</td>\n",
       "      <td>764.375000</td>\n",
       "      <td>761.773746</td>\n",
       "    </tr>\n",
       "    <tr>\n",
       "      <th>4</th>\n",
       "      <td>BH</td>\n",
       "      <td>736.123596</td>\n",
       "      <td>734.988764</td>\n",
       "    </tr>\n",
       "  </tbody>\n",
       "</table>\n",
       "</div>"
      ],
      "text/plain": [
       "  Warehouse        High         Low\n",
       "0        B1  766.282258  764.362903\n",
       "1        B2  668.937500  666.854167\n",
       "2        BD  785.854694  783.056536\n",
       "3        BG  764.375000  761.773746\n",
       "4        BH  736.123596  734.988764"
      ]
     },
     "execution_count": 21,
     "metadata": {},
     "output_type": "execute_result"
    }
   ],
   "source": [
    "trade_by_warehouse = et_coffee_x[['High', 'Low']].groupby(et_coffee_x['Warehouse']).mean()\n",
    "trade_by_warehouse.reset_index().head()"
   ]
  },
  {
   "cell_type": "code",
   "execution_count": 22,
   "id": "baa02d7e",
   "metadata": {},
   "outputs": [
    {
     "data": {
      "image/png": "[encoded data removed]",
      "text/plain": [
       "<Figure size 1200x600 with 1 Axes>"
      ]
     },
     "metadata": {},
     "output_type": "display_data"
    }
   ],
   "source": [
    "trade_by_warehouse.plot(kind='bar', figsize=(12,6), title='Average Coffee Prices by Warehouse', color=['lightblue', 'orange'])\n",
    "plt.xlabel('Warehouse')\n",
    "plt.ylabel('Price (ETB)')\n",
    "plt.ylim(400, 1000)\n",
    "plt.show()"
   ]
  },
  {
   "cell_type": "markdown",
   "id": "6712ad5d",
   "metadata": {},
   "source": [
    "##### -------------------------------------------------------------------------------\n",
    "##### *Findings from Average Coffee Prices by Warehouse\n",
    "###### There is considerable variation in average coffee prices across warehouses. Warehouses like ME, D2, and Gt achieve the highest prices, possibly reflecting higher quality or demand. In contrast, warehouses such as DD and BD have the lowest prices. Some warehouses maintain stable prices throughout trading, while others experience significant price changes, highlighting differences in market activity, coffee quality, or trading practices among warehouses.\n",
    "###### -Highest Average Prices: The warehouse ME has the highest average opening (934.47 ETB) and closing (935.03 ETB) prices, followed by D2 (900.00 ETB for both) and Gt (Opening: 869.91 ETB, Closing: 870.38 ETB). These warehouses likely handle premium or specialty coffee lots.\n",
    "\n",
    "###### -Lowest Average Prices: The lowest average opening and closing prices are observed at DD (Opening: 630.34 ETB, Closing: 586.93 ETB) and BD (Opening: 784.45 ETB, Closing: 614.10 ETB), indicating these warehouses may handle lower-grade or bulk coffee.\n",
    "\n",
    "###### -Price Consistency: Some warehouses, such as W1 and D2, show very little difference between opening and closing prices, suggesting stable trading activity and minimal price fluctuation during trading sessions.\n",
    "\n",
    "###### -Significant Price Drops: Warehouses like BD, GM, and JM show a large gap between opening and closing prices, indicating possible price drops during trading, which could be due to market dynamics or quality issues.\n",
    "##### -------------------------------------------------------------------------------\n",
    "\n",
    "\n"
   ]
  },
  {
   "cell_type": "markdown",
   "id": "404c56be",
   "metadata": {},
   "source": [
    "#####  * Deos the Production Year affect coffee  price?"
   ]
  },
  {
   "cell_type": "code",
   "execution_count": 23,
   "id": "c4b8b369",
   "metadata": {},
   "outputs": [
    {
     "data": {
      "text/html": [
       "<div>\n",
       "<style scoped>\n",
       "    .dataframe tbody tr th:only-of-type {\n",
       "        vertical-align: middle;\n",
       "    }\n",
       "\n",
       "    .dataframe tbody tr th {\n",
       "        vertical-align: top;\n",
       "    }\n",
       "\n",
       "    .dataframe thead th {\n",
       "        text-align: right;\n",
       "    }\n",
       "</style>\n",
       "<table border=\"1\" class=\"dataframe\">\n",
       "  <thead>\n",
       "    <tr style=\"text-align: right;\">\n",
       "      <th></th>\n",
       "      <th>Production Year</th>\n",
       "      <th>High</th>\n",
       "      <th>Low</th>\n",
       "    </tr>\n",
       "  </thead>\n",
       "  <tbody>\n",
       "    <tr>\n",
       "      <th>0</th>\n",
       "      <td>2002</td>\n",
       "      <td>714.444444</td>\n",
       "      <td>714.444444</td>\n",
       "    </tr>\n",
       "    <tr>\n",
       "      <th>1</th>\n",
       "      <td>2003</td>\n",
       "      <td>701.420624</td>\n",
       "      <td>697.732022</td>\n",
       "    </tr>\n",
       "    <tr>\n",
       "      <th>2</th>\n",
       "      <td>2004</td>\n",
       "      <td>778.938507</td>\n",
       "      <td>775.910364</td>\n",
       "    </tr>\n",
       "    <tr>\n",
       "      <th>3</th>\n",
       "      <td>2005</td>\n",
       "      <td>759.446043</td>\n",
       "      <td>758.090647</td>\n",
       "    </tr>\n",
       "    <tr>\n",
       "      <th>4</th>\n",
       "      <td>2006</td>\n",
       "      <td>749.264247</td>\n",
       "      <td>746.801140</td>\n",
       "    </tr>\n",
       "    <tr>\n",
       "      <th>5</th>\n",
       "      <td>2007</td>\n",
       "      <td>740.028813</td>\n",
       "      <td>738.375773</td>\n",
       "    </tr>\n",
       "    <tr>\n",
       "      <th>6</th>\n",
       "      <td>2008</td>\n",
       "      <td>734.291167</td>\n",
       "      <td>730.377698</td>\n",
       "    </tr>\n",
       "    <tr>\n",
       "      <th>7</th>\n",
       "      <td>2009</td>\n",
       "      <td>811.168165</td>\n",
       "      <td>805.226585</td>\n",
       "    </tr>\n",
       "    <tr>\n",
       "      <th>8</th>\n",
       "      <td>2010</td>\n",
       "      <td>854.720305</td>\n",
       "      <td>843.552970</td>\n",
       "    </tr>\n",
       "    <tr>\n",
       "      <th>9</th>\n",
       "      <td>2011</td>\n",
       "      <td>888.222599</td>\n",
       "      <td>884.575170</td>\n",
       "    </tr>\n",
       "  </tbody>\n",
       "</table>\n",
       "</div>"
      ],
      "text/plain": [
       "   Production Year        High         Low\n",
       "0             2002  714.444444  714.444444\n",
       "1             2003  701.420624  697.732022\n",
       "2             2004  778.938507  775.910364\n",
       "3             2005  759.446043  758.090647\n",
       "4             2006  749.264247  746.801140\n",
       "5             2007  740.028813  738.375773\n",
       "6             2008  734.291167  730.377698\n",
       "7             2009  811.168165  805.226585\n",
       "8             2010  854.720305  843.552970\n",
       "9             2011  888.222599  884.575170"
      ]
     },
     "execution_count": 23,
     "metadata": {},
     "output_type": "execute_result"
    }
   ],
   "source": [
    "price_by_production_year = et_coffee_x[['High', 'Low']].groupby(et_coffee_x['Production Year'].dt.year).mean()\n",
    "price_by_production_year.reset_index()"
   ]
  },
  {
   "cell_type": "code",
   "execution_count": 24,
   "id": "794668ae",
   "metadata": {},
   "outputs": [
    {
     "data": {
      "image/png": "[encoded data removed]",
      "text/plain": [
       "<Figure size 1200x600 with 1 Axes>"
      ]
     },
     "metadata": {},
     "output_type": "display_data"
    }
   ],
   "source": [
    "price_by_production_year.plot(kind='bar', figsize=(12,6), title='Average Coffee Prices by Production Year', color=['lightblue', 'orange'])\n",
    "plt.xlabel('Production Year')   \n",
    "plt.ylabel('Price (ETB)')\n",
    "plt.ylim(400, 1000)\n",
    "plt.show()"
   ]
  },
  {
   "cell_type": "markdown",
   "id": "57760741",
   "metadata": {},
   "source": [
    "##### -------------------------------------------------------------------------------\n",
    "##### *Findings from average coffee price by production year:\n",
    "###### Coffee prices by production year show a steady upward trend from 2003 to 2011, with the highest values in 2011 and the lowest in 2003. The price gap between high and low remains minimal, indicating a stable market across the years.\n",
    "###### -Lowest Prices in Early Years: The lowest average high and low prices are observed in 2003 (High: 701.42 ETB, Low: 697.73 ETB), indicating a period of lower market value for coffee.\n",
    "\n",
    "###### -Gradual Increase Over Time: From 2003 to 2011, both the high and low prices generally increased, showing a positive trend in coffee prices over the years.\n",
    "\n",
    "###### -Peak Prices in 2011: The highest average prices occurred in 2011 (High: 888.22 ETB, Low: 884.58 ETB), marking the peak of the observed period.\n",
    "\n",
    "###### -Narrowing Price Gap: The difference between high and low prices is consistently small each year, suggesting stable pricing and low volatility within each production year.\n",
    "##### -------------------------------------------------------------------------------\n"
   ]
  },
  {
   "cell_type": "markdown",
   "id": "1090d971",
   "metadata": {},
   "source": [
    "#####  *Which warehouse has the highest trading Volume (Ton)?"
   ]
  },
  {
   "cell_type": "code",
   "execution_count": 25,
   "id": "4f0bd2da",
   "metadata": {},
   "outputs": [
    {
     "data": {
      "text/html": [
       "<div>\n",
       "<style scoped>\n",
       "    .dataframe tbody tr th:only-of-type {\n",
       "        vertical-align: middle;\n",
       "    }\n",
       "\n",
       "    .dataframe tbody tr th {\n",
       "        vertical-align: top;\n",
       "    }\n",
       "\n",
       "    .dataframe thead th {\n",
       "        text-align: right;\n",
       "    }\n",
       "</style>\n",
       "<table border=\"1\" class=\"dataframe\">\n",
       "  <thead>\n",
       "    <tr style=\"text-align: right;\">\n",
       "      <th></th>\n",
       "      <th>Warehouse</th>\n",
       "      <th>Volume (Ton)</th>\n",
       "    </tr>\n",
       "  </thead>\n",
       "  <tbody>\n",
       "    <tr>\n",
       "      <th>3</th>\n",
       "      <td>BG</td>\n",
       "      <td>199585.42</td>\n",
       "    </tr>\n",
       "    <tr>\n",
       "      <th>11</th>\n",
       "      <td>GM</td>\n",
       "      <td>174824.96</td>\n",
       "    </tr>\n",
       "    <tr>\n",
       "      <th>21</th>\n",
       "      <td>SC</td>\n",
       "      <td>153264.03</td>\n",
       "    </tr>\n",
       "    <tr>\n",
       "      <th>14</th>\n",
       "      <td>HW</td>\n",
       "      <td>133748.38</td>\n",
       "    </tr>\n",
       "    <tr>\n",
       "      <th>2</th>\n",
       "      <td>BD</td>\n",
       "      <td>117639.00</td>\n",
       "    </tr>\n",
       "  </tbody>\n",
       "</table>\n",
       "</div>"
      ],
      "text/plain": [
       "   Warehouse  Volume (Ton)\n",
       "3         BG     199585.42\n",
       "11        GM     174824.96\n",
       "21        SC     153264.03\n",
       "14        HW     133748.38\n",
       "2         BD     117639.00"
      ]
     },
     "execution_count": 25,
     "metadata": {},
     "output_type": "execute_result"
    }
   ],
   "source": [
    "rank_warehouse_by_volume = et_coffee_x.groupby('Warehouse')['Volume (Ton)'].sum().reset_index()\n",
    "rank_warehouse_by_volume.sort_values(by='Volume (Ton)', ascending=False, inplace=True)\n",
    "rank_warehouse_by_volume.head()"
   ]
  },
  {
   "cell_type": "code",
   "execution_count": 26,
   "id": "7ae51247",
   "metadata": {},
   "outputs": [
    {
     "data": {
      "image/png": "[encoded data removed]",
      "text/plain": [
       "<Figure size 1200x600 with 1 Axes>"
      ]
     },
     "metadata": {},
     "output_type": "display_data"
    }
   ],
   "source": [
    "rank_warehouse_by_volume.plot(kind='bar', figsize=(12, 6), title='Coffee warehouse ranking by volume', color='lightgreen')\n",
    "plt.xlabel('Warehouse')\n",
    "plt.xticks(rotation=90)\n",
    "plt.ylabel('Volume (Ton)')\n",
    "plt.ylim(0, rank_warehouse_by_volume['Volume (Ton)'].max() + 2000)\n",
    "plt.show()"
   ]
  },
  {
   "cell_type": "markdown",
   "id": "8ca7297b",
   "metadata": {},
   "source": [
    "##### -------------------------------------------------------------------------------\n",
    "##### * Findings from warehouse coffee trading volume (ton) data:\n",
    "\n",
    "###### Coffee trading in Ethiopia is highly concentrated in a few large warehouses, with BG, GM, and SC dominating the market by volume. Most other warehouses handle much smaller volumes, indicating a centralized trading\n",
    "\n",
    "###### - Highest Trading Volumes:The warehouses BG (199,585.42 tons), GM (174,824.96 tons), and SC (153,264.03 tons) have the highest total trading volumes, indicating they are the main hubs for coffee trading.\n",
    "\n",
    "###### - Moderate Volume Warehouses:Warehouses like HW (133,748.38 tons), BD (117,639.00 tons), and JM (96,261.28 tons) also handle significant volumes, contributing notably to the overall market activity.\n",
    "\n",
    "###### -  Lowest Trading Volumes:Warehouses such as D2 (5.10 tons), J1 (183.77 tons), and W1 (200.05 tons) have the lowest trading volumes, suggesting limited trading activity or specialized operations.\n",
    "\n",
    "###### - Large Disparity in Volumes:There is a substantial gap between the highest and lowest trading volumes among warehouses, highlighting a concentration of trading activity in a few major warehouses while many others handle much smaller amounts.\n",
    "##### -------------------------------------------------------------------------------\n"
   ]
  },
  {
   "cell_type": "markdown",
   "id": "51cc7f5a",
   "metadata": {},
   "source": [
    "##### * Symbol-Specific Analysis\n",
    "##### * Which coffee symbol has the top 10 highest average daily trading volume?"
   ]
  },
  {
   "cell_type": "code",
   "execution_count": 27,
   "id": "bc777553",
   "metadata": {},
   "outputs": [
    {
     "data": {
      "text/html": [
       "<div>\n",
       "<style scoped>\n",
       "    .dataframe tbody tr th:only-of-type {\n",
       "        vertical-align: middle;\n",
       "    }\n",
       "\n",
       "    .dataframe tbody tr th {\n",
       "        vertical-align: top;\n",
       "    }\n",
       "\n",
       "    .dataframe thead th {\n",
       "        text-align: right;\n",
       "    }\n",
       "</style>\n",
       "<table border=\"1\" class=\"dataframe\">\n",
       "  <thead>\n",
       "    <tr style=\"text-align: right;\">\n",
       "      <th></th>\n",
       "      <th>Symbol</th>\n",
       "      <th>Volume (Ton)</th>\n",
       "      <th>Trade Date</th>\n",
       "    </tr>\n",
       "  </thead>\n",
       "  <tbody>\n",
       "    <tr>\n",
       "      <th>499</th>\n",
       "      <td>WSDA3</td>\n",
       "      <td>84.425688</td>\n",
       "      <td>218</td>\n",
       "    </tr>\n",
       "    <tr>\n",
       "      <th>189</th>\n",
       "      <td>UGM5</td>\n",
       "      <td>66.852308</td>\n",
       "      <td>13</td>\n",
       "    </tr>\n",
       "    <tr>\n",
       "      <th>232</th>\n",
       "      <td>UJMB4</td>\n",
       "      <td>66.730133</td>\n",
       "      <td>376</td>\n",
       "    </tr>\n",
       "    <tr>\n",
       "      <th>190</th>\n",
       "      <td>UGM6</td>\n",
       "      <td>62.711765</td>\n",
       "      <td>17</td>\n",
       "    </tr>\n",
       "    <tr>\n",
       "      <th>263</th>\n",
       "      <td>ULK6</td>\n",
       "      <td>59.796266</td>\n",
       "      <td>632</td>\n",
       "    </tr>\n",
       "    <tr>\n",
       "      <th>261</th>\n",
       "      <td>ULK4</td>\n",
       "      <td>56.097061</td>\n",
       "      <td>592</td>\n",
       "    </tr>\n",
       "    <tr>\n",
       "      <th>264</th>\n",
       "      <td>ULK7</td>\n",
       "      <td>55.369710</td>\n",
       "      <td>689</td>\n",
       "    </tr>\n",
       "    <tr>\n",
       "      <th>183</th>\n",
       "      <td>UGD7</td>\n",
       "      <td>48.923140</td>\n",
       "      <td>86</td>\n",
       "    </tr>\n",
       "    <tr>\n",
       "      <th>551</th>\n",
       "      <td>WYCA3</td>\n",
       "      <td>48.919000</td>\n",
       "      <td>60</td>\n",
       "    </tr>\n",
       "    <tr>\n",
       "      <th>218</th>\n",
       "      <td>UJM6</td>\n",
       "      <td>48.301515</td>\n",
       "      <td>33</td>\n",
       "    </tr>\n",
       "  </tbody>\n",
       "</table>\n",
       "</div>"
      ],
      "text/plain": [
       "    Symbol  Volume (Ton)  Trade Date\n",
       "499  WSDA3     84.425688         218\n",
       "189   UGM5     66.852308          13\n",
       "232  UJMB4     66.730133         376\n",
       "190   UGM6     62.711765          17\n",
       "263   ULK6     59.796266         632\n",
       "261   ULK4     56.097061         592\n",
       "264   ULK7     55.369710         689\n",
       "183   UGD7     48.923140          86\n",
       "551  WYCA3     48.919000          60\n",
       "218   UJM6     48.301515          33"
      ]
     },
     "execution_count": 27,
     "metadata": {},
     "output_type": "execute_result"
    }
   ],
   "source": [
    "avg_symbol_trade = et_coffee_x.groupby('Symbol').agg({'Volume (Ton)': 'mean', 'Trade Date': 'count'}).reset_index()\n",
    "avg_symbol_trade.sort_values(by='Volume (Ton)', ascending=False, inplace=True)\n",
    "avg_symbol_trade.head(10)"
   ]
  },
  {
   "cell_type": "markdown",
   "id": "9ce83229",
   "metadata": {},
   "source": [
    "##### * Do certain symbols consistently show positive/negative daily Percentage Change?\n",
    "\n"
   ]
  },
  {
   "cell_type": "code",
   "execution_count": 31,
   "id": "c5cd11b3",
   "metadata": {},
   "outputs": [
    {
     "data": {
      "text/html": [
       "<div>\n",
       "<style scoped>\n",
       "    .dataframe tbody tr th:only-of-type {\n",
       "        vertical-align: middle;\n",
       "    }\n",
       "\n",
       "    .dataframe tbody tr th {\n",
       "        vertical-align: top;\n",
       "    }\n",
       "\n",
       "    .dataframe thead th {\n",
       "        text-align: right;\n",
       "    }\n",
       "</style>\n",
       "<table border=\"1\" class=\"dataframe\">\n",
       "  <thead>\n",
       "    <tr style=\"text-align: right;\">\n",
       "      <th></th>\n",
       "      <th>percent_change</th>\n",
       "    </tr>\n",
       "    <tr>\n",
       "      <th>Symbol</th>\n",
       "      <th></th>\n",
       "    </tr>\n",
       "  </thead>\n",
       "  <tbody>\n",
       "    <tr>\n",
       "      <th>2LUFRA2</th>\n",
       "      <td>0.00</td>\n",
       "    </tr>\n",
       "    <tr>\n",
       "      <th>LUAM4</th>\n",
       "      <td>0.00</td>\n",
       "    </tr>\n",
       "    <tr>\n",
       "      <th>LUBL5A</th>\n",
       "      <td>0.86</td>\n",
       "    </tr>\n",
       "    <tr>\n",
       "      <th>LUBL5B</th>\n",
       "      <td>7.72</td>\n",
       "    </tr>\n",
       "    <tr>\n",
       "      <th>LUBL5C</th>\n",
       "      <td>0.44</td>\n",
       "    </tr>\n",
       "    <tr>\n",
       "      <th>...</th>\n",
       "      <td>...</td>\n",
       "    </tr>\n",
       "    <tr>\n",
       "      <th>WYCBQ2</th>\n",
       "      <td>0.00</td>\n",
       "    </tr>\n",
       "    <tr>\n",
       "      <th>WYCBUGnp</th>\n",
       "      <td>2.73</td>\n",
       "    </tr>\n",
       "    <tr>\n",
       "      <th>WYCBUGp</th>\n",
       "      <td>2.95</td>\n",
       "    </tr>\n",
       "    <tr>\n",
       "      <th>WYKQ1</th>\n",
       "      <td>1.13</td>\n",
       "    </tr>\n",
       "    <tr>\n",
       "      <th>WYKQ2</th>\n",
       "      <td>4.09</td>\n",
       "    </tr>\n",
       "  </tbody>\n",
       "</table>\n",
       "<p>568 rows × 1 columns</p>\n",
       "</div>"
      ],
      "text/plain": [
       "          percent_change\n",
       "Symbol                  \n",
       "2LUFRA2             0.00\n",
       "LUAM4               0.00\n",
       "LUBL5A              0.86\n",
       "LUBL5B              7.72\n",
       "LUBL5C              0.44\n",
       "...                  ...\n",
       "WYCBQ2              0.00\n",
       "WYCBUGnp            2.73\n",
       "WYCBUGp             2.95\n",
       "WYKQ1               1.13\n",
       "WYKQ2               4.09\n",
       "\n",
       "[568 rows x 1 columns]"
      ]
     },
     "execution_count": 31,
     "metadata": {},
     "output_type": "execute_result"
    }
   ],
   "source": [
    "Symbol_percent_change = et_coffee_x.groupby('Symbol').agg({'percent_change':'sum'})\n",
    "Symbol_percent_change"
   ]
  },
  {
   "cell_type": "code",
   "execution_count": 32,
   "id": "2a87e758",
   "metadata": {},
   "outputs": [
    {
     "data": {
      "text/html": [
       "<div>\n",
       "<style scoped>\n",
       "    .dataframe tbody tr th:only-of-type {\n",
       "        vertical-align: middle;\n",
       "    }\n",
       "\n",
       "    .dataframe tbody tr th {\n",
       "        vertical-align: top;\n",
       "    }\n",
       "\n",
       "    .dataframe thead th {\n",
       "        text-align: right;\n",
       "    }\n",
       "</style>\n",
       "<table border=\"1\" class=\"dataframe\">\n",
       "  <thead>\n",
       "    <tr style=\"text-align: right;\">\n",
       "      <th></th>\n",
       "      <th>Trade Date</th>\n",
       "      <th>Symbol</th>\n",
       "    </tr>\n",
       "  </thead>\n",
       "  <tbody>\n",
       "    <tr>\n",
       "      <th>0</th>\n",
       "      <td>2012-01</td>\n",
       "      <td>49</td>\n",
       "    </tr>\n",
       "    <tr>\n",
       "      <th>1</th>\n",
       "      <td>2012-02</td>\n",
       "      <td>31</td>\n",
       "    </tr>\n",
       "    <tr>\n",
       "      <th>2</th>\n",
       "      <td>2012-03</td>\n",
       "      <td>436</td>\n",
       "    </tr>\n",
       "    <tr>\n",
       "      <th>3</th>\n",
       "      <td>2012-04</td>\n",
       "      <td>564</td>\n",
       "    </tr>\n",
       "    <tr>\n",
       "      <th>4</th>\n",
       "      <td>2012-05</td>\n",
       "      <td>614</td>\n",
       "    </tr>\n",
       "  </tbody>\n",
       "</table>\n",
       "</div>"
      ],
      "text/plain": [
       "  Trade Date  Symbol\n",
       "0    2012-01      49\n",
       "1    2012-02      31\n",
       "2    2012-03     436\n",
       "3    2012-04     564\n",
       "4    2012-05     614"
      ]
     },
     "execution_count": 32,
     "metadata": {},
     "output_type": "execute_result"
    }
   ],
   "source": [
    "symbol_trade_relation = et_coffee_x['Symbol'].groupby(et_coffee_x['Trade Date'].dt.to_period('M')).count().reset_index()\n",
    "symbol_trade_relation.head()"
   ]
  },
  {
   "cell_type": "code",
   "execution_count": 44,
   "id": "0be71fca",
   "metadata": {},
   "outputs": [
    {
     "data": {
      "image/png": "[encoded data removed]",
      "text/plain": [
       "<Figure size 640x480 with 1 Axes>"
      ]
     },
     "metadata": {},
     "output_type": "display_data"
    }
   ],
   "source": [
    "symbol_trade_relation.plot()\n",
    "plt.xlabel('Symbol')\n",
    "plt.ylabel('Trade Date')\n",
    "plt.show()"
   ]
  },
  {
   "cell_type": "code",
   "execution_count": 25,
   "id": "a049350b",
   "metadata": {},
   "outputs": [
    {
     "data": {
      "text/html": [
       "<div>\n",
       "<style scoped>\n",
       "    .dataframe tbody tr th:only-of-type {\n",
       "        vertical-align: middle;\n",
       "    }\n",
       "\n",
       "    .dataframe tbody tr th {\n",
       "        vertical-align: top;\n",
       "    }\n",
       "\n",
       "    .dataframe thead th {\n",
       "        text-align: right;\n",
       "    }\n",
       "</style>\n",
       "<table border=\"1\" class=\"dataframe\">\n",
       "  <thead>\n",
       "    <tr style=\"text-align: right;\">\n",
       "      <th></th>\n",
       "      <th>Trade Date</th>\n",
       "      <th>Symbol</th>\n",
       "      <th>Warehouse</th>\n",
       "      <th>Production Year</th>\n",
       "      <th>Opening Price</th>\n",
       "      <th>Closing Price</th>\n",
       "      <th>High</th>\n",
       "      <th>Low</th>\n",
       "      <th>Change</th>\n",
       "      <th>Persetntage Change</th>\n",
       "      <th>Volume (Ton)</th>\n",
       "    </tr>\n",
       "  </thead>\n",
       "  <tbody>\n",
       "    <tr>\n",
       "      <th>22</th>\n",
       "      <td>2012-03-12</td>\n",
       "      <td>WYKQ2</td>\n",
       "      <td>BG</td>\n",
       "      <td>2004-01-01</td>\n",
       "      <td>820.0</td>\n",
       "      <td>0.0</td>\n",
       "      <td>820.0</td>\n",
       "      <td>820.0</td>\n",
       "      <td>0</td>\n",
       "      <td>0.0</td>\n",
       "      <td>21.61</td>\n",
       "    </tr>\n",
       "    <tr>\n",
       "      <th>23</th>\n",
       "      <td>2012-03-14</td>\n",
       "      <td>WYKQ2</td>\n",
       "      <td>BG</td>\n",
       "      <td>2004-01-01</td>\n",
       "      <td>902.0</td>\n",
       "      <td>0.0</td>\n",
       "      <td>902.0</td>\n",
       "      <td>902.0</td>\n",
       "      <td>0</td>\n",
       "      <td>0.0</td>\n",
       "      <td>3.60</td>\n",
       "    </tr>\n",
       "    <tr>\n",
       "      <th>24</th>\n",
       "      <td>2012-03-16</td>\n",
       "      <td>WYKQ2</td>\n",
       "      <td>BG</td>\n",
       "      <td>2004-01-01</td>\n",
       "      <td>993.0</td>\n",
       "      <td>0.0</td>\n",
       "      <td>993.0</td>\n",
       "      <td>993.0</td>\n",
       "      <td>0</td>\n",
       "      <td>0.0</td>\n",
       "      <td>8.99</td>\n",
       "    </tr>\n",
       "    <tr>\n",
       "      <th>36</th>\n",
       "      <td>2012-04-27</td>\n",
       "      <td>WYKQ2</td>\n",
       "      <td>BG</td>\n",
       "      <td>2004-01-01</td>\n",
       "      <td>990.0</td>\n",
       "      <td>0.0</td>\n",
       "      <td>990.0</td>\n",
       "      <td>990.0</td>\n",
       "      <td>0</td>\n",
       "      <td>0.0</td>\n",
       "      <td>10.80</td>\n",
       "    </tr>\n",
       "    <tr>\n",
       "      <th>37</th>\n",
       "      <td>2012-05-11</td>\n",
       "      <td>WYKQ2</td>\n",
       "      <td>BG</td>\n",
       "      <td>2004-01-01</td>\n",
       "      <td>910.0</td>\n",
       "      <td>0.0</td>\n",
       "      <td>910.0</td>\n",
       "      <td>910.0</td>\n",
       "      <td>0</td>\n",
       "      <td>0.0</td>\n",
       "      <td>13.69</td>\n",
       "    </tr>\n",
       "  </tbody>\n",
       "</table>\n",
       "</div>"
      ],
      "text/plain": [
       "   Trade Date Symbol Warehouse Production Year  Opening Price  Closing Price  \\\n",
       "22 2012-03-12  WYKQ2        BG      2004-01-01          820.0            0.0   \n",
       "23 2012-03-14  WYKQ2        BG      2004-01-01          902.0            0.0   \n",
       "24 2012-03-16  WYKQ2        BG      2004-01-01          993.0            0.0   \n",
       "36 2012-04-27  WYKQ2        BG      2004-01-01          990.0            0.0   \n",
       "37 2012-05-11  WYKQ2        BG      2004-01-01          910.0            0.0   \n",
       "\n",
       "     High    Low  Change Persetntage Change  Volume (Ton)  \n",
       "22  820.0  820.0       0               0.0          21.61  \n",
       "23  902.0  902.0       0               0.0           3.60  \n",
       "24  993.0  993.0       0               0.0           8.99  \n",
       "36  990.0  990.0       0               0.0          10.80  \n",
       "37  910.0  910.0       0               0.0          13.69  "
      ]
     },
     "execution_count": 25,
     "metadata": {},
     "output_type": "execute_result"
    }
   ],
   "source": [
    "ecx.head()"
   ]
  },
  {
   "cell_type": "code",
   "execution_count": null,
   "id": "baeaff7f",
   "metadata": {},
   "outputs": [],
   "source": []
  },
  {
   "cell_type": "markdown",
   "id": "6e276146",
   "metadata": {},
   "source": [
    "##### -----------------------------------------------------------------------------\n",
    "##### * Findings from top 10 symbol average daily trading volume \n",
    "\n",
    "###### A small number of coffee symbols dominate the Ethiopian coffee exchange in terms of average daily trading volume, with both high volume and varying trade frequency, reflecting their importance and demand in the market.\n",
    "\n",
    "###### Highest Average Volume:WSDA3 has the highest average daily trading volume (84.43 tons), making it the most actively traded symbol in the dataset.\n",
    "\n",
    "###### Consistently High Volumes:Symbols like UGM5 (66.85 tons), UJMB4 (66.73 tons), UGM6 (62.71 tons), and ULK6 (59.80 tons) also show very high average daily volumes, indicating strong market demand for these coffee types.\n",
    "\n",
    "###### Trade Frequency Variation:The number of trading days varies widely among symbols (e.g., ULK7 traded on 689 days, UJMB4 on 376 days, but UGM5 only on 13 days), suggesting some symbols are traded more regularly while others see high volume in fewer sessions.\n",
    "\n",
    "###### Market Concentration:The top symbols account for significantly higher average daily volumes compared to others, highlighting a concentration of trading activity in a few key coffee types.\n",
    "##### --------------------------------------------------------------------------------------\n"
   ]
  },
  {
   "cell_type": "code",
   "execution_count": 13,
   "id": "110fe187",
   "metadata": {},
   "outputs": [
    {
     "data": {
      "text/plain": [
       "Index(['Trade Date', 'Symbol', 'Warehouse', 'Production Year', 'Opening Price',\n",
       "       'Closing Price', 'High', 'Low', 'Change', 'Persetntage Change',\n",
       "       'Volume (Ton)'],\n",
       "      dtype='object')"
      ]
     },
     "execution_count": 13,
     "metadata": {},
     "output_type": "execute_result"
    }
   ],
   "source": [
    "ecx.columns"
   ]
  },
  {
   "cell_type": "code",
   "execution_count": 46,
   "id": "4067eec8",
   "metadata": {},
   "outputs": [
    {
     "data": {
      "text/html": [
       "<div>\n",
       "<style scoped>\n",
       "    .dataframe tbody tr th:only-of-type {\n",
       "        vertical-align: middle;\n",
       "    }\n",
       "\n",
       "    .dataframe tbody tr th {\n",
       "        vertical-align: top;\n",
       "    }\n",
       "\n",
       "    .dataframe thead th {\n",
       "        text-align: right;\n",
       "    }\n",
       "</style>\n",
       "<table border=\"1\" class=\"dataframe\">\n",
       "  <thead>\n",
       "    <tr style=\"text-align: right;\">\n",
       "      <th></th>\n",
       "      <th>Trade Date</th>\n",
       "      <th>High</th>\n",
       "      <th>Symbol</th>\n",
       "    </tr>\n",
       "  </thead>\n",
       "  <tbody>\n",
       "    <tr>\n",
       "      <th>0</th>\n",
       "      <td>2012</td>\n",
       "      <td>999.0</td>\n",
       "      <td>WYKQ2</td>\n",
       "    </tr>\n",
       "    <tr>\n",
       "      <th>1</th>\n",
       "      <td>2013</td>\n",
       "      <td>995.0</td>\n",
       "      <td>WYKQ2</td>\n",
       "    </tr>\n",
       "    <tr>\n",
       "      <th>2</th>\n",
       "      <td>2014</td>\n",
       "      <td>998.0</td>\n",
       "      <td>WYKQ2</td>\n",
       "    </tr>\n",
       "    <tr>\n",
       "      <th>3</th>\n",
       "      <td>2015</td>\n",
       "      <td>995.0</td>\n",
       "      <td>WYCBUGp</td>\n",
       "    </tr>\n",
       "    <tr>\n",
       "      <th>4</th>\n",
       "      <td>2016</td>\n",
       "      <td>999.0</td>\n",
       "      <td>WYCBUGp</td>\n",
       "    </tr>\n",
       "    <tr>\n",
       "      <th>5</th>\n",
       "      <td>2017</td>\n",
       "      <td>999.0</td>\n",
       "      <td>WYKQ2</td>\n",
       "    </tr>\n",
       "    <tr>\n",
       "      <th>6</th>\n",
       "      <td>2018</td>\n",
       "      <td>999.0</td>\n",
       "      <td>WYKQ2</td>\n",
       "    </tr>\n",
       "    <tr>\n",
       "      <th>7</th>\n",
       "      <td>2019</td>\n",
       "      <td>999.0</td>\n",
       "      <td>WYKQ2</td>\n",
       "    </tr>\n",
       "  </tbody>\n",
       "</table>\n",
       "</div>"
      ],
      "text/plain": [
       "   Trade Date   High   Symbol\n",
       "0        2012  999.0    WYKQ2\n",
       "1        2013  995.0    WYKQ2\n",
       "2        2014  998.0    WYKQ2\n",
       "3        2015  995.0  WYCBUGp\n",
       "4        2016  999.0  WYCBUGp\n",
       "5        2017  999.0    WYKQ2\n",
       "6        2018  999.0    WYKQ2\n",
       "7        2019  999.0    WYKQ2"
      ]
     },
     "execution_count": 46,
     "metadata": {},
     "output_type": "execute_result"
    }
   ],
   "source": [
    "high_symbol_by_year = ecx[['High', 'Symbol']].groupby(ecx['Trade Date'].dt.year).max().reset_index()\n",
    "high_symbol_by_year.sort_values(by='Trade Date', ascending=True, inplace=True)\n",
    "high_symbol_by_year"
   ]
  },
  {
   "cell_type": "code",
   "execution_count": 93,
   "id": "121cc2f1",
   "metadata": {},
   "outputs": [
    {
     "data": {
      "image/png": "[encoded data removed]",
      "text/plain": [
       "<Figure size 1200x600 with 1 Axes>"
      ]
     },
     "metadata": {},
     "output_type": "display_data"
    }
   ],
   "source": [
    "high_symbol_by_year.plot(kind='bar', x='Trade Date', y='High', figsize=(12, 6), title='Highest Coffee Price by Year', color='orange')\n",
    "plt.xlabel('Year')      \n",
    "plt.ylabel('Highest Price (ETB)')\n",
    "plt.xticks(rotation=45)\n",
    "plt.ylim(990, 1000)\n",
    "plt.grid()\n",
    "plt.show()"
   ]
  },
  {
   "cell_type": "code",
   "execution_count": 47,
   "id": "027ceb03",
   "metadata": {},
   "outputs": [
    {
     "data": {
      "text/html": [
       "<div>\n",
       "<style scoped>\n",
       "    .dataframe tbody tr th:only-of-type {\n",
       "        vertical-align: middle;\n",
       "    }\n",
       "\n",
       "    .dataframe tbody tr th {\n",
       "        vertical-align: top;\n",
       "    }\n",
       "\n",
       "    .dataframe thead th {\n",
       "        text-align: right;\n",
       "    }\n",
       "</style>\n",
       "<table border=\"1\" class=\"dataframe\">\n",
       "  <thead>\n",
       "    <tr style=\"text-align: right;\">\n",
       "      <th></th>\n",
       "      <th>Trade Date</th>\n",
       "      <th>Low</th>\n",
       "      <th>Symbol</th>\n",
       "    </tr>\n",
       "  </thead>\n",
       "  <tbody>\n",
       "    <tr>\n",
       "      <th>0</th>\n",
       "      <td>2012</td>\n",
       "      <td>205.0</td>\n",
       "      <td>2LUFRA2</td>\n",
       "    </tr>\n",
       "    <tr>\n",
       "      <th>1</th>\n",
       "      <td>2013</td>\n",
       "      <td>170.0</td>\n",
       "      <td>LUBL5A</td>\n",
       "    </tr>\n",
       "    <tr>\n",
       "      <th>2</th>\n",
       "      <td>2014</td>\n",
       "      <td>230.0</td>\n",
       "      <td>LUBL5A</td>\n",
       "    </tr>\n",
       "    <tr>\n",
       "      <th>3</th>\n",
       "      <td>2015</td>\n",
       "      <td>170.0</td>\n",
       "      <td>LUBL5B</td>\n",
       "    </tr>\n",
       "    <tr>\n",
       "      <th>4</th>\n",
       "      <td>2016</td>\n",
       "      <td>99.0</td>\n",
       "      <td>LUBL5B</td>\n",
       "    </tr>\n",
       "    <tr>\n",
       "      <th>5</th>\n",
       "      <td>2017</td>\n",
       "      <td>120.0</td>\n",
       "      <td>LUBL5B</td>\n",
       "    </tr>\n",
       "    <tr>\n",
       "      <th>6</th>\n",
       "      <td>2018</td>\n",
       "      <td>281.0</td>\n",
       "      <td>LUAM4</td>\n",
       "    </tr>\n",
       "    <tr>\n",
       "      <th>7</th>\n",
       "      <td>2019</td>\n",
       "      <td>451.0</td>\n",
       "      <td>LUAM4</td>\n",
       "    </tr>\n",
       "  </tbody>\n",
       "</table>\n",
       "</div>"
      ],
      "text/plain": [
       "   Trade Date    Low   Symbol\n",
       "0        2012  205.0  2LUFRA2\n",
       "1        2013  170.0   LUBL5A\n",
       "2        2014  230.0   LUBL5A\n",
       "3        2015  170.0   LUBL5B\n",
       "4        2016   99.0   LUBL5B\n",
       "5        2017  120.0   LUBL5B\n",
       "6        2018  281.0    LUAM4\n",
       "7        2019  451.0    LUAM4"
      ]
     },
     "execution_count": 47,
     "metadata": {},
     "output_type": "execute_result"
    }
   ],
   "source": [
    "low_symbol_by_year = ecx[['Low', 'Symbol']].groupby(ecx['Trade Date'].dt.year).min().reset_index()\n",
    "low_symbol_by_year.sort_values(by='Trade Date', ascending=True, inplace=True)\n",
    "low_symbol_by_year"
   ]
  },
  {
   "cell_type": "code",
   "execution_count": 95,
   "id": "1569b04e",
   "metadata": {},
   "outputs": [
    {
     "data": {
      "image/png": "[encoded data removed]",
      "text/plain": [
       "<Figure size 1200x600 with 1 Axes>"
      ]
     },
     "metadata": {},
     "output_type": "display_data"
    }
   ],
   "source": [
    "low_symbol_by_year.plot(kind='bar', x='Trade Date', y='Low', figsize=(12,6), title='Lowest Coffee Price by Year')\n",
    "plt.xlabel('Year')\n",
    "plt.ylabel('Highest Price (ETB)')\n",
    "plt.ylim(80, 500)\n",
    "plt.grid(False)\n",
    "plt.show()"
   ]
  },
  {
   "cell_type": "code",
   "execution_count": null,
   "id": "f9bef42c",
   "metadata": {},
   "outputs": [
    {
     "data": {
      "image/png": "[encoded data removed]",
      "text/plain": [
       "<Figure size 1200x600 with 1 Axes>"
      ]
     },
     "metadata": {},
     "output_type": "display_data"
    }
   ],
   "source": [
    "\n",
    "ecx['Trade Date'].dt.month.value_counts().sort_index().plot(kind='bar', figsize=(12, 6), title='Coffee Trade Frequency by Month')\n",
    "plt.xlabel('Month')     \n",
    "plt.ylabel('Trade Frequency')\n",
    "plt.xticks(rotation=45) \n",
    "plt.grid()\n",
    "plt.show()"
   ]
  },
  {
   "cell_type": "code",
   "execution_count": null,
   "id": "de6694cf",
   "metadata": {},
   "outputs": [],
   "source": [
    "ee = pd.read_excel(r'Coffee-2012.xlsx')\n",
    "ee.head()"
   ]
  },
  {
   "cell_type": "code",
   "execution_count": null,
   "id": "20504c43",
   "metadata": {},
   "outputs": [],
   "source": [
    "#ee['Closing Price'] = pd.to_numeric(ee['Closing Price'], errors='coerce')\n",
    "#ee['Opening Price'] = pd.to_numeric(ee['Opening Price'], errors='coerce')\n",
    "#ee['High'] = pd.to_numeric(ee['High'], errors='coerce')\n",
    "ee['Low'] = pd.to_numeric(ee['Low'], errors='coerce')\n"
   ]
  },
  {
   "cell_type": "code",
   "execution_count": null,
   "id": "f660dcb3",
   "metadata": {},
   "outputs": [],
   "source": [
    "re = ee.copy()\n",
    "re.count().unique().sum()"
   ]
  },
  {
   "cell_type": "code",
   "execution_count": null,
   "id": "13415445",
   "metadata": {},
   "outputs": [],
   "source": [
    "re.count().duplicated"
   ]
  },
  {
   "cell_type": "code",
   "execution_count": null,
   "id": "b9d69e6f",
   "metadata": {},
   "outputs": [],
   "source": []
  }
 ],
 "metadata": {
  "kernelspec": {
   "display_name": "Python 3",
   "language": "python",
   "name": "python3"
  },
  "language_info": {
   "codemirror_mode": {
    "name": "ipython",
    "version": 3
   },
   "file_extension": ".py",
   "mimetype": "text/x-python",
   "name": "python",
   "nbconvert_exporter": "python",
   "pygments_lexer": "ipython3",
   "version": "3.13.0"
  }
 },
 "nbformat": 4,
 "nbformat_minor": 5
}
