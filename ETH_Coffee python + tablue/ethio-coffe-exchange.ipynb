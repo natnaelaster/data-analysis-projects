{
 "cells": [
  {
   "cell_type": "markdown",
   "id": "e3ab02c0",
   "metadata": {},
   "source": [
    "#### 1 Importing the required Lybraries"
   ]
  },
  {
   "cell_type": "code",
   "execution_count": 2,
   "id": "fc2b5f7c",
   "metadata": {},
   "outputs": [],
   "source": [
    "import pandas as pd\n",
    "import numpy as np  \n",
    "import matplotlib.pyplot as plt\n",
    "import seaborn as sns"
   ]
  },
  {
   "cell_type": "markdown",
   "id": "63576997",
   "metadata": {},
   "source": [
    "#### 2 Data Importing process\n",
    "######   Merging all the excel files as on csv using the Symbol column to join the data after   importing each excel file to my working folder"
   ]
  },
  {
   "cell_type": "code",
   "execution_count": null,
   "id": "0022bb84",
   "metadata": {},
   "outputs": [],
   "source": [
    "# Listing the files to be merged\n",
    "file_paths = [\n",
    "    'Coffee-2012.xlsx',\n",
    "    'Coffee-2013.xlsx',\n",
    "    'Coffee-2014.xlsx',\n",
    "    'Coffee-2015.xlsx',\n",
    "    'Coffee-2016.xlsx',\n",
    "    'Coffee-2017.xlsx',\n",
    "    'Coffee-2018.xlsx',\n",
    "    'Coffee-2019.xlsx']\n",
    "\n",
    "# Reading and merging the files\n",
    "dfs = [pd.read_excel(file) for file in file_paths]\n",
    "\n",
    "merged_df = pd.concat(dfs, ignore_index=True)\n",
    "\n",
    "# Saving the merged DataFrame to a CSV file\n",
    "merged_df.to_csv('ethiopian_coffee_exchange_data.csv', index=False)\n",
    "\n",
    "print(\"Data merged and saved to 'ethiopian_coffee_exchange_data.csv'.\")"
   ]
  },
  {
   "cell_type": "code",
   "execution_count": 3,
   "id": "f7335e5c",
   "metadata": {},
   "outputs": [
    {
     "data": {
      "text/html": [
       "<div>\n",
       "<style scoped>\n",
       "    .dataframe tbody tr th:only-of-type {\n",
       "        vertical-align: middle;\n",
       "    }\n",
       "\n",
       "    .dataframe tbody tr th {\n",
       "        vertical-align: top;\n",
       "    }\n",
       "\n",
       "    .dataframe thead th {\n",
       "        text-align: right;\n",
       "    }\n",
       "</style>\n",
       "<table border=\"1\" class=\"dataframe\">\n",
       "  <thead>\n",
       "    <tr style=\"text-align: right;\">\n",
       "      <th></th>\n",
       "      <th>Trade Date</th>\n",
       "      <th>Symbol</th>\n",
       "      <th>Warehouse</th>\n",
       "      <th>Production Year</th>\n",
       "      <th>Opening Price</th>\n",
       "      <th>Closing Price</th>\n",
       "      <th>High</th>\n",
       "      <th>Low</th>\n",
       "      <th>Change</th>\n",
       "      <th>Persetntage Change</th>\n",
       "      <th>Volume (Ton)</th>\n",
       "    </tr>\n",
       "  </thead>\n",
       "  <tbody>\n",
       "    <tr>\n",
       "      <th>0</th>\n",
       "      <td>2012-01-02</td>\n",
       "      <td>WYKQ2</td>\n",
       "      <td>BG</td>\n",
       "      <td>2004</td>\n",
       "      <td>1,175.00</td>\n",
       "      <td>0.00</td>\n",
       "      <td>1,175.00</td>\n",
       "      <td>1,175.00</td>\n",
       "      <td>0</td>\n",
       "      <td>0.0</td>\n",
       "      <td>28.29</td>\n",
       "    </tr>\n",
       "    <tr>\n",
       "      <th>1</th>\n",
       "      <td>2012-01-03</td>\n",
       "      <td>WYKQ2</td>\n",
       "      <td>BG</td>\n",
       "      <td>2004</td>\n",
       "      <td>1,175.00</td>\n",
       "      <td>0.00</td>\n",
       "      <td>1,175.00</td>\n",
       "      <td>1,175.00</td>\n",
       "      <td>0</td>\n",
       "      <td>0.0</td>\n",
       "      <td>10.80</td>\n",
       "    </tr>\n",
       "    <tr>\n",
       "      <th>2</th>\n",
       "      <td>2012-01-04</td>\n",
       "      <td>WYKQ2</td>\n",
       "      <td>BG</td>\n",
       "      <td>2004</td>\n",
       "      <td>1,180.00</td>\n",
       "      <td>0.00</td>\n",
       "      <td>1,180.00</td>\n",
       "      <td>1,180.00</td>\n",
       "      <td>0</td>\n",
       "      <td>0.0</td>\n",
       "      <td>6.61</td>\n",
       "    </tr>\n",
       "    <tr>\n",
       "      <th>3</th>\n",
       "      <td>2012-01-06</td>\n",
       "      <td>WYKQ2</td>\n",
       "      <td>BG</td>\n",
       "      <td>2004</td>\n",
       "      <td>1,175.00</td>\n",
       "      <td>0.00</td>\n",
       "      <td>1,175.00</td>\n",
       "      <td>1,175.00</td>\n",
       "      <td>0</td>\n",
       "      <td>0.0</td>\n",
       "      <td>8.99</td>\n",
       "    </tr>\n",
       "    <tr>\n",
       "      <th>4</th>\n",
       "      <td>2012-01-12</td>\n",
       "      <td>WYKQ2</td>\n",
       "      <td>BG</td>\n",
       "      <td>2004</td>\n",
       "      <td>1,293.00</td>\n",
       "      <td>0.00</td>\n",
       "      <td>1,293.00</td>\n",
       "      <td>1,280.00</td>\n",
       "      <td>0</td>\n",
       "      <td>0.0</td>\n",
       "      <td>18.00</td>\n",
       "    </tr>\n",
       "  </tbody>\n",
       "</table>\n",
       "</div>"
      ],
      "text/plain": [
       "   Trade Date Symbol Warehouse  Production Year Opening Price Closing Price  \\\n",
       "0  2012-01-02  WYKQ2        BG             2004      1,175.00          0.00   \n",
       "1  2012-01-03  WYKQ2        BG             2004      1,175.00          0.00   \n",
       "2  2012-01-04  WYKQ2        BG             2004      1,180.00          0.00   \n",
       "3  2012-01-06  WYKQ2        BG             2004      1,175.00          0.00   \n",
       "4  2012-01-12  WYKQ2        BG             2004      1,293.00          0.00   \n",
       "\n",
       "       High       Low  Change Persetntage Change  Volume (Ton)  \n",
       "0  1,175.00  1,175.00       0               0.0          28.29  \n",
       "1  1,175.00  1,175.00       0               0.0          10.80  \n",
       "2  1,180.00  1,180.00       0               0.0           6.61  \n",
       "3  1,175.00  1,175.00       0               0.0           8.99  \n",
       "4  1,293.00  1,280.00       0               0.0          18.00  "
      ]
     },
     "execution_count": 3,
     "metadata": {},
     "output_type": "execute_result"
    }
   ],
   "source": [
    "df = pd.read_csv('ethiopian_coffee_exchange_data.csv')\n",
    "df.head()"
   ]
  },
  {
   "cell_type": "code",
   "execution_count": 4,
   "id": "46c828db",
   "metadata": {},
   "outputs": [
    {
     "data": {
      "text/html": [
       "<div>\n",
       "<style scoped>\n",
       "    .dataframe tbody tr th:only-of-type {\n",
       "        vertical-align: middle;\n",
       "    }\n",
       "\n",
       "    .dataframe tbody tr th {\n",
       "        vertical-align: top;\n",
       "    }\n",
       "\n",
       "    .dataframe thead th {\n",
       "        text-align: right;\n",
       "    }\n",
       "</style>\n",
       "<table border=\"1\" class=\"dataframe\">\n",
       "  <thead>\n",
       "    <tr style=\"text-align: right;\">\n",
       "      <th></th>\n",
       "      <th>Production Year</th>\n",
       "      <th>Change</th>\n",
       "      <th>Volume (Ton)</th>\n",
       "    </tr>\n",
       "  </thead>\n",
       "  <tbody>\n",
       "    <tr>\n",
       "      <th>count</th>\n",
       "      <td>91423.000000</td>\n",
       "      <td>91423.000000</td>\n",
       "      <td>91423.000000</td>\n",
       "    </tr>\n",
       "    <tr>\n",
       "      <th>mean</th>\n",
       "      <td>2007.398106</td>\n",
       "      <td>24.979907</td>\n",
       "      <td>22.745432</td>\n",
       "    </tr>\n",
       "    <tr>\n",
       "      <th>std</th>\n",
       "      <td>2.366144</td>\n",
       "      <td>58.014626</td>\n",
       "      <td>29.990070</td>\n",
       "    </tr>\n",
       "    <tr>\n",
       "      <th>min</th>\n",
       "      <td>2002.000000</td>\n",
       "      <td>0.000000</td>\n",
       "      <td>1.800000</td>\n",
       "    </tr>\n",
       "    <tr>\n",
       "      <th>25%</th>\n",
       "      <td>2005.000000</td>\n",
       "      <td>0.000000</td>\n",
       "      <td>6.830000</td>\n",
       "    </tr>\n",
       "    <tr>\n",
       "      <th>50%</th>\n",
       "      <td>2007.000000</td>\n",
       "      <td>10.000000</td>\n",
       "      <td>12.750000</td>\n",
       "    </tr>\n",
       "    <tr>\n",
       "      <th>75%</th>\n",
       "      <td>2009.000000</td>\n",
       "      <td>29.000000</td>\n",
       "      <td>25.500000</td>\n",
       "    </tr>\n",
       "    <tr>\n",
       "      <th>max</th>\n",
       "      <td>2011.000000</td>\n",
       "      <td>2230.000000</td>\n",
       "      <td>596.700000</td>\n",
       "    </tr>\n",
       "  </tbody>\n",
       "</table>\n",
       "</div>"
      ],
      "text/plain": [
       "       Production Year        Change  Volume (Ton)\n",
       "count     91423.000000  91423.000000  91423.000000\n",
       "mean       2007.398106     24.979907     22.745432\n",
       "std           2.366144     58.014626     29.990070\n",
       "min        2002.000000      0.000000      1.800000\n",
       "25%        2005.000000      0.000000      6.830000\n",
       "50%        2007.000000     10.000000     12.750000\n",
       "75%        2009.000000     29.000000     25.500000\n",
       "max        2011.000000   2230.000000    596.700000"
      ]
     },
     "execution_count": 4,
     "metadata": {},
     "output_type": "execute_result"
    }
   ],
   "source": [
    "df.describe()"
   ]
  },
  {
   "cell_type": "code",
   "execution_count": 5,
   "id": "2a4a2be9",
   "metadata": {},
   "outputs": [
    {
     "name": "stdout",
     "output_type": "stream",
     "text": [
      "<class 'pandas.core.frame.DataFrame'>\n",
      "RangeIndex: 91423 entries, 0 to 91422\n",
      "Data columns (total 11 columns):\n",
      " #   Column              Non-Null Count  Dtype  \n",
      "---  ------              --------------  -----  \n",
      " 0   Trade Date          91423 non-null  object \n",
      " 1   Symbol              91423 non-null  object \n",
      " 2   Warehouse           91423 non-null  object \n",
      " 3   Production Year     91423 non-null  int64  \n",
      " 4   Opening Price       91423 non-null  object \n",
      " 5   Closing Price       91423 non-null  object \n",
      " 6   High                91423 non-null  object \n",
      " 7   Low                 91423 non-null  object \n",
      " 8   Change              91423 non-null  int64  \n",
      " 9   Persetntage Change  91423 non-null  object \n",
      " 10  Volume (Ton)        91423 non-null  float64\n",
      "dtypes: float64(1), int64(2), object(8)\n",
      "memory usage: 7.7+ MB\n"
     ]
    }
   ],
   "source": [
    "df.info()"
   ]
  },
  {
   "cell_type": "markdown",
   "id": "01f0598a",
   "metadata": {},
   "source": [
    "#### ---------------------------------------------------------------------------------------------------------------\n",
    "#### *Explanation\n",
    "###### After importing the excel files and concating to one csv. The excel files those are separated by year from 2012 to 2019 all stored in one table with total number of records 91,423. Then call the file as (ethiopian_coffee_exchange_data.csv)\n",
    "###### And also there are many columns having error data type, which must be corrected in the data cleaning stage \n",
    "#### ---------------------------------------------------------------------------------------------------------------\n"
   ]
  },
  {
   "cell_type": "markdown",
   "id": "edfce7ca",
   "metadata": {},
   "source": [
    "#### 3 Data Cleaning Process"
   ]
  },
  {
   "cell_type": "code",
   "execution_count": 6,
   "id": "b5802bd8",
   "metadata": {},
   "outputs": [],
   "source": [
    "ecx = df.copy()"
   ]
  },
  {
   "cell_type": "code",
   "execution_count": 11,
   "id": "32e865b9",
   "metadata": {},
   "outputs": [
    {
     "name": "stdout",
     "output_type": "stream",
     "text": [
      "<class 'pandas.core.frame.DataFrame'>\n",
      "RangeIndex: 91423 entries, 0 to 91422\n",
      "Data columns (total 11 columns):\n",
      " #   Column              Non-Null Count  Dtype  \n",
      "---  ------              --------------  -----  \n",
      " 0   Trade Date          91423 non-null  object \n",
      " 1   Symbol              91423 non-null  object \n",
      " 2   Warehouse           91423 non-null  object \n",
      " 3   Production Year     91423 non-null  int64  \n",
      " 4   Opening Price       91423 non-null  object \n",
      " 5   Closing Price       91423 non-null  object \n",
      " 6   High                91423 non-null  object \n",
      " 7   Low                 91423 non-null  object \n",
      " 8   Change              91423 non-null  int64  \n",
      " 9   Persetntage Change  91423 non-null  object \n",
      " 10  Volume (Ton)        91423 non-null  float64\n",
      "dtypes: float64(1), int64(2), object(8)\n",
      "memory usage: 7.7+ MB\n"
     ]
    }
   ],
   "source": [
    "ecx.info()"
   ]
  },
  {
   "cell_type": "code",
   "execution_count": 12,
   "id": "7efd5117",
   "metadata": {},
   "outputs": [],
   "source": [
    "# Converting data types\n",
    "\n",
    "# Converting 'Trade Date' and 'Production Year' to datetime\n",
    "ecx['Trade Date'] = pd.to_datetime(ecx['Trade Date'], format='%Y-%m-%d')\n",
    "ecx['Production Year'] = pd.to_datetime(ecx['Production Year'], format='%Y')\n",
    "\n",
    "# Converting numeric columns to float and removing percentage sign from 'Percentage Change' \n",
    "ecx['Opening Price'] = pd.to_numeric(ecx['Opening Price'], errors='coerce')\n",
    "ecx['Closing Price'] = pd.to_numeric(ecx['Closing Price'], errors='coerce')\n",
    "ecx['High'] = pd.to_numeric(ecx['High'], errors='coerce')\n",
    "ecx['Low'] = pd.to_numeric(ecx['Low'], errors='coerce') "
   ]
  },
  {
   "cell_type": "code",
   "execution_count": 13,
   "id": "20ff2e5d",
   "metadata": {},
   "outputs": [
    {
     "name": "stdout",
     "output_type": "stream",
     "text": [
      "<class 'pandas.core.frame.DataFrame'>\n",
      "RangeIndex: 91423 entries, 0 to 91422\n",
      "Data columns (total 11 columns):\n",
      " #   Column              Non-Null Count  Dtype         \n",
      "---  ------              --------------  -----         \n",
      " 0   Trade Date          91423 non-null  datetime64[ns]\n",
      " 1   Symbol              91423 non-null  object        \n",
      " 2   Warehouse           91423 non-null  object        \n",
      " 3   Production Year     91423 non-null  datetime64[ns]\n",
      " 4   Opening Price       41253 non-null  float64       \n",
      " 5   Closing Price       46055 non-null  float64       \n",
      " 6   High                40943 non-null  float64       \n",
      " 7   Low                 41553 non-null  float64       \n",
      " 8   Change              91423 non-null  int64         \n",
      " 9   Persetntage Change  91423 non-null  object        \n",
      " 10  Volume (Ton)        91423 non-null  float64       \n",
      "dtypes: datetime64[ns](2), float64(5), int64(1), object(3)\n",
      "memory usage: 7.7+ MB\n"
     ]
    }
   ],
   "source": [
    "# Checking for null values\n",
    "ecx.info()"
   ]
  },
  {
   "cell_type": "code",
   "execution_count": 14,
   "id": "ba569c81",
   "metadata": {},
   "outputs": [
    {
     "data": {
      "text/plain": [
       "Trade Date                0\n",
       "Symbol                    0\n",
       "Warehouse                 0\n",
       "Production Year           0\n",
       "Opening Price         50170\n",
       "Closing Price         45368\n",
       "High                  50480\n",
       "Low                   49870\n",
       "Change                    0\n",
       "Persetntage Change        0\n",
       "Volume (Ton)              0\n",
       "dtype: int64"
      ]
     },
     "execution_count": 14,
     "metadata": {},
     "output_type": "execute_result"
    }
   ],
   "source": [
    "# Counting the amount of null values in each columns\n",
    "null_values = ecx.isnull().sum()\n",
    "null_values"
   ]
  },
  {
   "cell_type": "code",
   "execution_count": 15,
   "id": "b148014e",
   "metadata": {},
   "outputs": [],
   "source": [
    "# Dropping null values in specific columns\n",
    "ecx.dropna(subset=['Opening Price', 'Closing Price', 'High', 'Low'], inplace=True)"
   ]
  },
  {
   "cell_type": "code",
   "execution_count": 16,
   "id": "54f96d46",
   "metadata": {},
   "outputs": [
    {
     "data": {
      "text/plain": [
       "Trade Date            0\n",
       "Symbol                0\n",
       "Warehouse             0\n",
       "Production Year       0\n",
       "Opening Price         0\n",
       "Closing Price         0\n",
       "High                  0\n",
       "Low                   0\n",
       "Change                0\n",
       "Persetntage Change    0\n",
       "Volume (Ton)          0\n",
       "dtype: int64"
      ]
     },
     "execution_count": 16,
     "metadata": {},
     "output_type": "execute_result"
    }
   ],
   "source": [
    "ecx.isna().sum()"
   ]
  },
  {
   "cell_type": "code",
   "execution_count": 17,
   "id": "ca8aa5bb",
   "metadata": {},
   "outputs": [
    {
     "data": {
      "text/plain": [
       "np.int64(0)"
      ]
     },
     "execution_count": 17,
     "metadata": {},
     "output_type": "execute_result"
    }
   ],
   "source": [
    "ecx.duplicated().sum()"
   ]
  },
  {
   "cell_type": "code",
   "execution_count": 18,
   "id": "a3363f2e",
   "metadata": {},
   "outputs": [
    {
     "data": {
      "text/html": [
       "<div>\n",
       "<style scoped>\n",
       "    .dataframe tbody tr th:only-of-type {\n",
       "        vertical-align: middle;\n",
       "    }\n",
       "\n",
       "    .dataframe tbody tr th {\n",
       "        vertical-align: top;\n",
       "    }\n",
       "\n",
       "    .dataframe thead th {\n",
       "        text-align: right;\n",
       "    }\n",
       "</style>\n",
       "<table border=\"1\" class=\"dataframe\">\n",
       "  <thead>\n",
       "    <tr style=\"text-align: right;\">\n",
       "      <th></th>\n",
       "      <th>Trade Date</th>\n",
       "      <th>Production Year</th>\n",
       "      <th>Opening Price</th>\n",
       "      <th>Closing Price</th>\n",
       "      <th>High</th>\n",
       "      <th>Low</th>\n",
       "      <th>Change</th>\n",
       "      <th>Volume (Ton)</th>\n",
       "    </tr>\n",
       "  </thead>\n",
       "  <tbody>\n",
       "    <tr>\n",
       "      <th>count</th>\n",
       "      <td>40943</td>\n",
       "      <td>40943</td>\n",
       "      <td>40943.000000</td>\n",
       "      <td>40943.000000</td>\n",
       "      <td>40943.000000</td>\n",
       "      <td>40943.000000</td>\n",
       "      <td>40943.000000</td>\n",
       "      <td>40943.000000</td>\n",
       "    </tr>\n",
       "    <tr>\n",
       "      <th>mean</th>\n",
       "      <td>2015-05-13 17:17:47.171433472</td>\n",
       "      <td>2006-07-10 10:30:22.025742976</td>\n",
       "      <td>770.027038</td>\n",
       "      <td>657.627262</td>\n",
       "      <td>771.765503</td>\n",
       "      <td>768.359597</td>\n",
       "      <td>20.429890</td>\n",
       "      <td>23.570076</td>\n",
       "    </tr>\n",
       "    <tr>\n",
       "      <th>min</th>\n",
       "      <td>2012-01-02 00:00:00</td>\n",
       "      <td>2002-01-01 00:00:00</td>\n",
       "      <td>99.000000</td>\n",
       "      <td>0.000000</td>\n",
       "      <td>99.000000</td>\n",
       "      <td>99.000000</td>\n",
       "      <td>0.000000</td>\n",
       "      <td>1.800000</td>\n",
       "    </tr>\n",
       "    <tr>\n",
       "      <th>25%</th>\n",
       "      <td>2013-05-30 00:00:00</td>\n",
       "      <td>2005-01-01 00:00:00</td>\n",
       "      <td>710.000000</td>\n",
       "      <td>540.000000</td>\n",
       "      <td>710.000000</td>\n",
       "      <td>710.000000</td>\n",
       "      <td>0.000000</td>\n",
       "      <td>6.300000</td>\n",
       "    </tr>\n",
       "    <tr>\n",
       "      <th>50%</th>\n",
       "      <td>2015-05-27 00:00:00</td>\n",
       "      <td>2006-01-01 00:00:00</td>\n",
       "      <td>820.000000</td>\n",
       "      <td>795.000000</td>\n",
       "      <td>820.000000</td>\n",
       "      <td>817.000000</td>\n",
       "      <td>8.000000</td>\n",
       "      <td>12.750000</td>\n",
       "    </tr>\n",
       "    <tr>\n",
       "      <th>75%</th>\n",
       "      <td>2017-01-05 00:00:00</td>\n",
       "      <td>2008-01-01 00:00:00</td>\n",
       "      <td>900.000000</td>\n",
       "      <td>875.000000</td>\n",
       "      <td>900.000000</td>\n",
       "      <td>899.000000</td>\n",
       "      <td>20.000000</td>\n",
       "      <td>28.050000</td>\n",
       "    </tr>\n",
       "    <tr>\n",
       "      <th>max</th>\n",
       "      <td>2019-09-13 00:00:00</td>\n",
       "      <td>2011-01-01 00:00:00</td>\n",
       "      <td>999.000000</td>\n",
       "      <td>999.000000</td>\n",
       "      <td>999.000000</td>\n",
       "      <td>999.000000</td>\n",
       "      <td>1060.000000</td>\n",
       "      <td>465.920000</td>\n",
       "    </tr>\n",
       "    <tr>\n",
       "      <th>std</th>\n",
       "      <td>NaN</td>\n",
       "      <td>NaN</td>\n",
       "      <td>180.816240</td>\n",
       "      <td>314.283336</td>\n",
       "      <td>181.114093</td>\n",
       "      <td>180.481256</td>\n",
       "      <td>52.165701</td>\n",
       "      <td>30.988650</td>\n",
       "    </tr>\n",
       "  </tbody>\n",
       "</table>\n",
       "</div>"
      ],
      "text/plain": [
       "                          Trade Date                Production Year  \\\n",
       "count                          40943                          40943   \n",
       "mean   2015-05-13 17:17:47.171433472  2006-07-10 10:30:22.025742976   \n",
       "min              2012-01-02 00:00:00            2002-01-01 00:00:00   \n",
       "25%              2013-05-30 00:00:00            2005-01-01 00:00:00   \n",
       "50%              2015-05-27 00:00:00            2006-01-01 00:00:00   \n",
       "75%              2017-01-05 00:00:00            2008-01-01 00:00:00   \n",
       "max              2019-09-13 00:00:00            2011-01-01 00:00:00   \n",
       "std                              NaN                            NaN   \n",
       "\n",
       "       Opening Price  Closing Price          High           Low        Change  \\\n",
       "count   40943.000000   40943.000000  40943.000000  40943.000000  40943.000000   \n",
       "mean      770.027038     657.627262    771.765503    768.359597     20.429890   \n",
       "min        99.000000       0.000000     99.000000     99.000000      0.000000   \n",
       "25%       710.000000     540.000000    710.000000    710.000000      0.000000   \n",
       "50%       820.000000     795.000000    820.000000    817.000000      8.000000   \n",
       "75%       900.000000     875.000000    900.000000    899.000000     20.000000   \n",
       "max       999.000000     999.000000    999.000000    999.000000   1060.000000   \n",
       "std       180.816240     314.283336    181.114093    180.481256     52.165701   \n",
       "\n",
       "       Volume (Ton)  \n",
       "count  40943.000000  \n",
       "mean      23.570076  \n",
       "min        1.800000  \n",
       "25%        6.300000  \n",
       "50%       12.750000  \n",
       "75%       28.050000  \n",
       "max      465.920000  \n",
       "std       30.988650  "
      ]
     },
     "execution_count": 18,
     "metadata": {},
     "output_type": "execute_result"
    }
   ],
   "source": [
    "ecx.describe()"
   ]
  },
  {
   "cell_type": "code",
   "execution_count": 19,
   "id": "5583d30a",
   "metadata": {},
   "outputs": [
    {
     "name": "stdout",
     "output_type": "stream",
     "text": [
      "<class 'pandas.core.frame.DataFrame'>\n",
      "Index: 40943 entries, 22 to 91422\n",
      "Data columns (total 11 columns):\n",
      " #   Column              Non-Null Count  Dtype         \n",
      "---  ------              --------------  -----         \n",
      " 0   Trade Date          40943 non-null  datetime64[ns]\n",
      " 1   Symbol              40943 non-null  object        \n",
      " 2   Warehouse           40943 non-null  object        \n",
      " 3   Production Year     40943 non-null  datetime64[ns]\n",
      " 4   Opening Price       40943 non-null  float64       \n",
      " 5   Closing Price       40943 non-null  float64       \n",
      " 6   High                40943 non-null  float64       \n",
      " 7   Low                 40943 non-null  float64       \n",
      " 8   Change              40943 non-null  int64         \n",
      " 9   Persetntage Change  40943 non-null  object        \n",
      " 10  Volume (Ton)        40943 non-null  float64       \n",
      "dtypes: datetime64[ns](2), float64(5), int64(1), object(3)\n",
      "memory usage: 3.7+ MB\n"
     ]
    }
   ],
   "source": [
    "ecx.info()"
   ]
  },
  {
   "cell_type": "markdown",
   "id": "0c9a944b",
   "metadata": {},
   "source": [
    "#### -----------------------------------------------------------------------------------------\n",
    "##### * Explanation\n",
    "###### After the data cleaning process, The date and numeric columns converted to the exact data type for required analytical quastion.\n",
    "###### And after droping null values from some columns, now it is easy and clear to show that the stastical destribution of the numeric columns.\n",
    "###### "
   ]
  },
  {
   "cell_type": "markdown",
   "id": "ac884c63",
   "metadata": {},
   "source": [
    "#### 4 Exploratory Data Analysis"
   ]
  },
  {
   "cell_type": "markdown",
   "id": "5dfdd5e9",
   "metadata": {},
   "source": [
    "#### 4.1. Price Trends Over Time\n",
    "###### How did the average opening/closing price of coffee change over time (monthly/quarterly/yearly)?\n",
    "##### by Year"
   ]
  },
  {
   "cell_type": "code",
   "execution_count": 36,
   "id": "d09d54b5",
   "metadata": {},
   "outputs": [
    {
     "data": {
      "text/html": [
       "<div>\n",
       "<style scoped>\n",
       "    .dataframe tbody tr th:only-of-type {\n",
       "        vertical-align: middle;\n",
       "    }\n",
       "\n",
       "    .dataframe tbody tr th {\n",
       "        vertical-align: top;\n",
       "    }\n",
       "\n",
       "    .dataframe thead th {\n",
       "        text-align: right;\n",
       "    }\n",
       "</style>\n",
       "<table border=\"1\" class=\"dataframe\">\n",
       "  <thead>\n",
       "    <tr style=\"text-align: right;\">\n",
       "      <th></th>\n",
       "      <th>Trade Date</th>\n",
       "      <th>Opening Price</th>\n",
       "      <th>Closing Price</th>\n",
       "    </tr>\n",
       "  </thead>\n",
       "  <tbody>\n",
       "    <tr>\n",
       "      <th>0</th>\n",
       "      <td>2012</td>\n",
       "      <td>810.982503</td>\n",
       "      <td>7.583289</td>\n",
       "    </tr>\n",
       "    <tr>\n",
       "      <th>1</th>\n",
       "      <td>2013</td>\n",
       "      <td>751.324492</td>\n",
       "      <td>741.467911</td>\n",
       "    </tr>\n",
       "    <tr>\n",
       "      <th>2</th>\n",
       "      <td>2014</td>\n",
       "      <td>754.281203</td>\n",
       "      <td>754.277255</td>\n",
       "    </tr>\n",
       "    <tr>\n",
       "      <th>3</th>\n",
       "      <td>2015</td>\n",
       "      <td>759.949165</td>\n",
       "      <td>758.911923</td>\n",
       "    </tr>\n",
       "    <tr>\n",
       "      <th>4</th>\n",
       "      <td>2016</td>\n",
       "      <td>702.795426</td>\n",
       "      <td>701.752026</td>\n",
       "    </tr>\n",
       "    <tr>\n",
       "      <th>5</th>\n",
       "      <td>2017</td>\n",
       "      <td>784.647370</td>\n",
       "      <td>784.951987</td>\n",
       "    </tr>\n",
       "    <tr>\n",
       "      <th>6</th>\n",
       "      <td>2018</td>\n",
       "      <td>805.564906</td>\n",
       "      <td>805.682781</td>\n",
       "    </tr>\n",
       "    <tr>\n",
       "      <th>7</th>\n",
       "      <td>2019</td>\n",
       "      <td>869.555685</td>\n",
       "      <td>869.389019</td>\n",
       "    </tr>\n",
       "  </tbody>\n",
       "</table>\n",
       "</div>"
      ],
      "text/plain": [
       "   Trade Date  Opening Price  Closing Price\n",
       "0        2012     810.982503       7.583289\n",
       "1        2013     751.324492     741.467911\n",
       "2        2014     754.281203     754.277255\n",
       "3        2015     759.949165     758.911923\n",
       "4        2016     702.795426     701.752026\n",
       "5        2017     784.647370     784.951987\n",
       "6        2018     805.564906     805.682781\n",
       "7        2019     869.555685     869.389019"
      ]
     },
     "execution_count": 36,
     "metadata": {},
     "output_type": "execute_result"
    }
   ],
   "source": [
    "yearly_price_trade = ecx[['Opening Price', 'Closing Price']].groupby(ecx['Trade Date'].dt.year).mean()\n",
    "yearly_price_trade.reset_index()"
   ]
  },
  {
   "cell_type": "code",
   "execution_count": 46,
   "id": "2b6399c6",
   "metadata": {},
   "outputs": [
    {
     "data": {
      "image/png": "[encoded data removed]",
      "text/plain": [
       "<Figure size 1200x600 with 1 Axes>"
      ]
     },
     "metadata": {},
     "output_type": "display_data"
    }
   ],
   "source": [
    "yearly_price_trade.plot(kind='line', figsize=(12, 6), title='Average Coffee Prices Over Years', color=['green', 'blue'])\n",
    "plt.xlabel('Year')\n",
    "plt.ylabel('Price (ETB)')\n",
    "plt.show()"
   ]
  },
  {
   "cell_type": "markdown",
   "id": "51543c07",
   "metadata": {},
   "source": [
    "##### by Quarter"
   ]
  },
  {
   "cell_type": "code",
   "execution_count": 48,
   "id": "661654f5",
   "metadata": {},
   "outputs": [
    {
     "data": {
      "image/png": "[encoded data removed]",
      "text/plain": [
       "<Figure size 1200x600 with 1 Axes>"
      ]
     },
     "metadata": {},
     "output_type": "display_data"
    }
   ],
   "source": [
    "quater_price_trade = ecx[['Closing Price', 'Opening Price']].groupby(ecx['Trade Date'].dt.to_period('Q')).mean()\n",
    "quater_price_trade.plot(kind='line', figsize=(12, 6), title='Average Coffee Prices Over Quarters', color=['green', 'blue'])\n",
    "plt.ylabel('Price (ETB)')\n",
    "plt.xlabel('Quarter')   \n",
    "plt.grid()    \n",
    "plt.show()"
   ]
  },
  {
   "cell_type": "code",
   "execution_count": null,
   "id": "de6694cf",
   "metadata": {},
   "outputs": [],
   "source": [
    "ee = pd.read_excel(r'Coffee-2012.xlsx')\n",
    "ee.head()"
   ]
  },
  {
   "cell_type": "code",
   "execution_count": null,
   "id": "20504c43",
   "metadata": {},
   "outputs": [],
   "source": [
    "#ee['Closing Price'] = pd.to_numeric(ee['Closing Price'], errors='coerce')\n",
    "#ee['Opening Price'] = pd.to_numeric(ee['Opening Price'], errors='coerce')\n",
    "#ee['High'] = pd.to_numeric(ee['High'], errors='coerce')\n",
    "ee['Low'] = pd.to_numeric(ee['Low'], errors='coerce')\n"
   ]
  },
  {
   "cell_type": "code",
   "execution_count": null,
   "id": "f660dcb3",
   "metadata": {},
   "outputs": [],
   "source": [
    "re = ee.copy()\n",
    "re.count().unique().sum()"
   ]
  },
  {
   "cell_type": "code",
   "execution_count": null,
   "id": "13415445",
   "metadata": {},
   "outputs": [],
   "source": [
    "re.count().duplicated"
   ]
  },
  {
   "cell_type": "code",
   "execution_count": null,
   "id": "65ab753d",
   "metadata": {},
   "outputs": [],
   "source": [
    "re.info()"
   ]
  },
  {
   "cell_type": "code",
   "execution_count": null,
   "id": "69a1f1ef",
   "metadata": {},
   "outputs": [],
   "source": [
    "ee.dropna(inplace=True)"
   ]
  },
  {
   "cell_type": "code",
   "execution_count": null,
   "id": "abd6c257",
   "metadata": {},
   "outputs": [],
   "source": [
    "ee.info()"
   ]
  },
  {
   "cell_type": "code",
   "execution_count": null,
   "id": "b9d69e6f",
   "metadata": {},
   "outputs": [],
   "source": []
  }
 ],
 "metadata": {
  "kernelspec": {
   "display_name": "Python 3",
   "language": "python",
   "name": "python3"
  },
  "language_info": {
   "codemirror_mode": {
    "name": "ipython",
    "version": 3
   },
   "file_extension": ".py",
   "mimetype": "text/x-python",
   "name": "python",
   "nbconvert_exporter": "python",
   "pygments_lexer": "ipython3",
   "version": "3.13.0"
  }
 },
 "nbformat": 4,
 "nbformat_minor": 5
}
